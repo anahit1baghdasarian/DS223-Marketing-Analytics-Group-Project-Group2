{
 "cells": [
  {
   "cell_type": "markdown",
   "metadata": {
    "slideshow": {
     "slide_type": "slide"
    }
   },
   "source": [
    "## Akian College of Science and Engineering, American University of Armenia\n",
    "\n",
    "### FALL2023 | DS223: Marketing Analytics | Karen Hovhannisyan\n",
    "\n",
    "#### **Assignment: Group Project**\n",
    "\n",
    "**Authors:** Anahit Baghdasaryan, Lilit Galstyan, Natela Azoyan, Narek Khachikyan, Ofelya Stepanyan\n",
    "\n",
    "\n",
    "\n"
   ]
  },
  {
   "cell_type": "markdown",
   "metadata": {
    "slideshow": {
     "slide_type": "slide"
    }
   },
   "source": [
    "### **Problem Definition:** Customer Lifetime Value (CLV) Analysis Challenges in Retail\n",
    "\n",
    "* Accurate CLV determination is crucial for sustained business success\n",
    "\n",
    "* CLV quantifies anticipated monetary value from a customer over their association with the company\n",
    "\n",
    "* Retail store using product scanning technology faces the challenge of reliable CLV computation and deriving actionable insights for strategic decisions.\n"
   ]
  },
  {
   "cell_type": "markdown",
   "metadata": {
    "slideshow": {
     "slide_type": "subslide"
    }
   },
   "source": [
    "### **Problem Solution:** Python-Based CLV Analysis Package\n",
    "\n",
    "*We present a solution to address the challenges posed by the Customer Lifetime Value (CLV) Analysis in Retail.*\n"
   ]
  },
  {
   "cell_type": "markdown",
   "metadata": {
    "slideshow": {
     "slide_type": "subslide"
    }
   },
   "source": [
    "\n",
    "### **Solution Highlights**\n",
    "\n",
    "**Python Package Design:**\n",
    "\n",
    "* We have developed a Python package equipped with built-in functions specifically designed for comprehensive CLV analysis and prediction.\n",
    "\n",
    "**Complete CLV Analysis:**\n",
    "\n",
    "* Our package facilitates end-to-end CLV analysis, covering all essential attributes and metrics.\n",
    "\n",
    "* It ensures accurate determination of CLV, a key factor for sustained business success.\n",
    "\n",
    "**Actionable Insights:**\n",
    "\n",
    "* Built-in functions generate actionable insights, empowering strategic decision-makers with the information needed to drive business strategies effectively."
   ]
  },
  {
   "cell_type": "markdown",
   "metadata": {
    "slideshow": {
     "slide_type": "subslide"
    }
   },
   "source": [
    "\n",
    "### **Benefits and Implications:**\n",
    "\n",
    "* **Efficiency and Accuracy:** The Python package ensures efficiency and accuracy in CLV computation, enabling businesses to make informed decisions.\n",
    "\n",
    "* **Strategic Decision Support:** Decision-makers gain valuable insights into customer behavior and preferences, aiding in the formulation of strategic decisions for sustained profitability.\n",
    "\n",
    "* **User-Friendly Implementation:** The package is designed for user-friendly implementation, allowing businesses to leverage its capabilities without extensive technical expertise"
   ]
  },
  {
   "cell_type": "markdown",
   "metadata": {
    "slideshow": {
     "slide_type": "slide"
    }
   },
   "source": [
    "# Package Usage Example\n"
   ]
  },
  {
   "cell_type": "markdown",
   "metadata": {
    "slideshow": {
     "slide_type": "slide"
    }
   },
   "source": [
    "## 1. Building Schema for the Database"
   ]
  },
  {
   "cell_type": "markdown",
   "metadata": {
    "slideshow": {
     "slide_type": "subslide"
    }
   },
   "source": [
    "**Schema Builder Script**\n",
    "\n",
    "This script builds the database schema using the classes defined in the CLV_Analysis.DB.schema module.\n",
    "It imports all classes from the schema module to create the necessary tables for the SQLite database.\n",
    "\n",
    "*Note:* The schema_builder.py file should be executed to set up the database schema."
   ]
  },
  {
   "cell_type": "code",
   "execution_count": null,
   "metadata": {
    "slideshow": {
     "slide_type": "subslide"
    }
   },
   "outputs": [],
   "source": [
    "from CLV_Analysis.DB.schema import *"
   ]
  },
  {
   "cell_type": "markdown",
   "metadata": {
    "slideshow": {
     "slide_type": "slide"
    }
   },
   "source": [
    "## 2. Generating Synthetic Data"
   ]
  },
  {
   "cell_type": "markdown",
   "metadata": {
    "slideshow": {
     "slide_type": "subslide"
    }
   },
   "source": [
    "\n",
    "**This script generates sample data for Customer Lifetime Value (CLV) analysis**\n"
   ]
  },
  {
   "cell_type": "markdown",
   "metadata": {
    "slideshow": {
     "slide_type": "subslide"
    }
   },
   "source": [
    "**Loading Modules and Packages**\n",
    "- Import modules and packages necessary for data generation."
   ]
  },
  {
   "cell_type": "code",
   "execution_count": null,
   "metadata": {
    "slideshow": {
     "slide_type": "subslide"
    }
   },
   "outputs": [],
   "source": [
    "from CLV_Analysis.DB.data_generator import generate_product\n",
    "from CLV_Analysis.DB.data_generator import generate_customer\n",
    "from CLV_Analysis.DB.data_generator import generate_transaction\n",
    "from CLV_Analysis.DB.data_generator import generate_date\n",
    "from CLV_Analysis.DB.data_generator import generate_sales\n",
    "import pandas as pd\n",
    "import random\n",
    "import os"
   ]
  },
  {
   "cell_type": "markdown",
   "metadata": {
    "slideshow": {
     "slide_type": "subslide"
    }
   },
   "source": [
    "\n",
    "**Declaring Constants**\n",
    "- Define constants for the number of products, customers, and transactions.\n"
   ]
  },
  {
   "cell_type": "code",
   "execution_count": null,
   "metadata": {
    "slideshow": {
     "slide_type": "subslide"
    }
   },
   "outputs": [],
   "source": [
    "NUMBER_OF_PRODUCTS=5000\n",
    "NUMBER_OF_CUSTOMERS=3000\n",
    "NUMBER_OF_TRANSACTIONS=4000"
   ]
  },
  {
   "cell_type": "markdown",
   "metadata": {
    "slideshow": {
     "slide_type": "subslide"
    }
   },
   "source": [
    "**Creating \"data_csv\" Folder, If It Doesn't Already Exist**"
   ]
  },
  {
   "cell_type": "code",
   "execution_count": null,
   "metadata": {
    "slideshow": {
     "slide_type": "subslide"
    }
   },
   "outputs": [],
   "source": [
    "# Check if 'data_csv' folder exists, if not, create it\n",
    "output_directory = 'data_csv'\n",
    "if not os.path.exists(output_directory):\n",
    "    os.makedirs(output_directory)"
   ]
  },
  {
   "cell_type": "markdown",
   "metadata": {
    "slideshow": {
     "slide_type": "subslide"
    }
   },
   "source": [
    "\n",
    "**Generating Customer Data**\n",
    "- Generate customer data using the `generate_customer` function and save it to a CSV file."
   ]
  },
  {
   "cell_type": "code",
   "execution_count": null,
   "metadata": {
    "slideshow": {
     "slide_type": "subslide"
    }
   },
   "outputs": [],
   "source": [
    "customer_data = [generate_customer(customer_id) for customer_id\n",
    "                 in range(NUMBER_OF_CUSTOMERS)]\n",
    "\n",
    "# Save customer data to CSV file in the 'data_csv' folder\n",
    "output_file_path = os.path.join(output_directory, 'customer.csv')\n",
    "pd.DataFrame(customer_data).to_csv(output_file_path, index=False)"
   ]
  },
  {
   "cell_type": "markdown",
   "metadata": {
    "slideshow": {
     "slide_type": "subslide"
    }
   },
   "source": [
    "\n",
    "**Generating Product Data**\n",
    "- Generate product data using the `generate_product` function and save it to a CSV file.\n"
   ]
  },
  {
   "cell_type": "code",
   "execution_count": null,
   "metadata": {
    "slideshow": {
     "slide_type": "subslide"
    }
   },
   "outputs": [],
   "source": [
    "product_data = [generate_product(product_id) for product_id\n",
    "                in range(NUMBER_OF_PRODUCTS)]\n",
    "# Save product data to CSV file in the 'data_csv' folder\n",
    "output_file_path = os.path.join(output_directory, 'product.csv')\n",
    "pd.DataFrame(product_data).to_csv(output_file_path, index=False)"
   ]
  },
  {
   "cell_type": "markdown",
   "metadata": {
    "slideshow": {
     "slide_type": "subslide"
    }
   },
   "source": [
    "\n",
    "**Generating Transaction Data**\n",
    "- Generate transaction data using the `generate_transaction` function and save it to a CSV file."
   ]
  },
  {
   "cell_type": "code",
   "execution_count": null,
   "metadata": {
    "slideshow": {
     "slide_type": "subslide"
    }
   },
   "outputs": [],
   "source": [
    "transaction_data = [generate_transaction(transaction_id)\n",
    "                    for transaction_id\n",
    "                    in range(NUMBER_OF_TRANSACTIONS)] \n",
    "# Save transaction data to CSV file in the 'data_csv' folder\n",
    "output_file_path = os.path.join(output_directory, 'transactions.csv')\n",
    "pd.DataFrame(transaction_data).to_csv(output_file_path, index=False)"
   ]
  },
  {
   "cell_type": "markdown",
   "metadata": {
    "slideshow": {
     "slide_type": "subslide"
    }
   },
   "source": [
    "\n",
    "**Generating Dates Data**\n",
    "- Generate date data using the `generate_date` function and save it to a CSV file.\n"
   ]
  },
  {
   "cell_type": "code",
   "execution_count": null,
   "metadata": {
    "slideshow": {
     "slide_type": "subslide"
    }
   },
   "outputs": [],
   "source": [
    "from datetime import datetime\n",
    "\n",
    "# Define the start and end dates as strings\n",
    "start_date = \"2000-01-01\"\n",
    "end_date = \"2023-12-31\"\n",
    "\n",
    "# Convert the date strings to datetime objects\n",
    "start_date_obj = datetime.strptime(start_date, \"%Y-%m-%d\")\n",
    "end_date_obj = datetime.strptime(end_date, \"%Y-%m-%d\")\n",
    "\n",
    "# Calculate the difference between the two dates\n",
    "number_of_days = (end_date_obj - start_date_obj).days\n",
    "number_of_days"
   ]
  },
  {
   "cell_type": "code",
   "execution_count": null,
   "metadata": {
    "slideshow": {
     "slide_type": "subslide"
    }
   },
   "outputs": [],
   "source": [
    "dates_data = [generate_date(date_id) for date_id\n",
    "              in range(number_of_days+1)] \n",
    "# Save date data to CSV file in the 'data_csv' folder\n",
    "output_file_path = os.path.join(output_directory, 'date.csv')\n",
    "pd.DataFrame(dates_data).to_csv(output_file_path, index=False)"
   ]
  },
  {
   "cell_type": "markdown",
   "metadata": {
    "slideshow": {
     "slide_type": "subslide"
    }
   },
   "source": [
    "\n",
    "**Generating Sales Data**\n",
    "- Generate sales data by associating transactions with products, customers, and dates.\n",
    "- Save the sales data to a CSV file."
   ]
  },
  {
   "cell_type": "code",
   "execution_count": null,
   "metadata": {
    "slideshow": {
     "slide_type": "subslide"
    }
   },
   "outputs": [],
   "source": [
    "DateData = pd.DataFrame(dates_data)\n",
    "TransData = pd.DataFrame(transaction_data)\n",
    "\n",
    "DateData[\"date\"] = pd.to_datetime(DateData[\"date\"])\n",
    "TransData[\"date\"] = pd.to_datetime(TransData[\"date\"])"
   ]
  },
  {
   "cell_type": "code",
   "execution_count": null,
   "metadata": {
    "slideshow": {
     "slide_type": "subslide"
    }
   },
   "outputs": [],
   "source": [
    "# Create an array with numbers from 1 to 4000\n",
    "original_array = list(range(0, NUMBER_OF_TRANSACTIONS))\n",
    "\n",
    "# Create a new array with randomly duplicated elements\n",
    "duplicated_array = []\n",
    "for num in original_array:\n",
    "    # Generate a random number between 1 and 5 (inclusive)\n",
    "    duplicates = random.randint(1, 5)\n",
    "    # Append the number to the new array 'duplicates' times\n",
    "    duplicated_array.extend([num] * duplicates)\n",
    "\n",
    "len(duplicated_array)"
   ]
  },
  {
   "cell_type": "code",
   "execution_count": null,
   "metadata": {
    "slideshow": {
     "slide_type": "subslide"
    }
   },
   "outputs": [],
   "source": [
    "# Save sales data to CSV file in the 'data_csv' folder\n",
    "output_file_path = os.path.join(output_directory, 'sales.csv')\n",
    "\n",
    "sales_data = [generate_sales() for i in range(len(duplicated_array))] \n",
    "sales_data = pd.DataFrame(sales_data)\n",
    "sales_data[\"transaction_id\"] = duplicated_array\n",
    "sales_data = sales_data[['transaction_id', 'product_id', 'quantity']]\n",
    "sales_data = sales_data.merge(TransData,\n",
    "                              on='transaction_id', how='left')\n",
    "sales_data = sales_data.merge(DateData, on='date', how='left')\n",
    "sales_data = sales_data[['transaction_id','product_id',\n",
    "                         'customer_id', 'quantity', 'date_id']]\n",
    "sales_data.to_csv(output_file_path, index=False)"
   ]
  },
  {
   "cell_type": "markdown",
   "metadata": {
    "slideshow": {
     "slide_type": "slide"
    }
   },
   "source": [
    "## 3. Inserting the Generated Data Into the Schema"
   ]
  },
  {
   "cell_type": "markdown",
   "metadata": {
    "slideshow": {
     "slide_type": "subslide"
    }
   },
   "source": [
    "**Data Loading Script**\n",
    "\n",
    "This script loads data into an SQLite database from CSV files using the `SqlHandler` class from the CLV_Analysis.DB.sql_interactions module. It populates tables for customers, transactions, products, dates, and sales in the 'temp.db' database.\n",
    "\n",
    "*Modules:*\n",
    "\n",
    "- CLV_Analysis.DB.sql_interactions: Provides the `SqlHandler` class for SQLite database interactions.\n",
    "\n",
    "- sqlalchemy: SQL toolkit and Object-Relational Mapping (ORM) library.\n",
    "\n",
    "- CLV_Analysis.DB.schema: Defines the SQLAlchemy schema for the 'Sale' table.\n",
    "\n",
    "- pandas: Data manipulation and analysis library.\n",
    "\n",
    "*Note:*\n",
    "\n",
    "- Ensure that the necessary dependencies are installed, including pandas, sqlalchemy, and the CLV_Analysis package.\n",
    "\n",
    "- The script assumes the presence of CSV files ('customer.csv', 'transactions.csv', 'product.csv', 'date.csv', 'sales.csv') in the 'data_csv' directory.\n",
    "\n"
   ]
  },
  {
   "cell_type": "markdown",
   "metadata": {
    "slideshow": {
     "slide_type": "subslide"
    }
   },
   "source": [
    "#### Loading Modules and Packages"
   ]
  },
  {
   "cell_type": "code",
   "execution_count": null,
   "metadata": {
    "slideshow": {
     "slide_type": "subslide"
    }
   },
   "outputs": [],
   "source": [
    "\n",
    "from CLV_Analysis.DB.sql_interactions import SqlHandler\n",
    "from sqlalchemy import create_engine\n",
    "from sqlalchemy.orm import sessionmaker\n",
    "from CLV_Analysis.DB.schema import Sale\n",
    "import pandas as pd\n"
   ]
  },
  {
   "cell_type": "markdown",
   "metadata": {
    "slideshow": {
     "slide_type": "subslide"
    }
   },
   "source": [
    "#### Insertion Into the Table of Customers"
   ]
  },
  {
   "cell_type": "code",
   "execution_count": null,
   "metadata": {
    "slideshow": {
     "slide_type": "subslide"
    }
   },
   "outputs": [],
   "source": [
    "# customer\n",
    "Inst = SqlHandler('temp', 'customer')\n",
    "\n",
    "data = pd.read_csv('data_csv/customer.csv')\n",
    "\n",
    "# Inst.truncate_table()\n",
    "Inst.insert_many(data)\n",
    "\n",
    "Inst.close_cnxn()\n"
   ]
  },
  {
   "cell_type": "markdown",
   "metadata": {
    "slideshow": {
     "slide_type": "subslide"
    }
   },
   "source": [
    "#### Insertion Into the Table of Transactions"
   ]
  },
  {
   "cell_type": "code",
   "execution_count": null,
   "metadata": {
    "slideshow": {
     "slide_type": "subslide"
    }
   },
   "outputs": [],
   "source": [
    "# transaction\n",
    "Inst1 = SqlHandler('temp', 'transactions')\n",
    "\n",
    "data1 = pd.read_csv('data_csv/transactions.csv')\n",
    "\n",
    "# Inst1.truncate_table()\n",
    "Inst1.insert_many(data1)\n",
    "\n",
    "Inst1.close_cnxn()\n"
   ]
  },
  {
   "cell_type": "markdown",
   "metadata": {
    "slideshow": {
     "slide_type": "subslide"
    }
   },
   "source": [
    "#### Insertion Into the Table of Products"
   ]
  },
  {
   "cell_type": "code",
   "execution_count": null,
   "metadata": {
    "slideshow": {
     "slide_type": "subslide"
    }
   },
   "outputs": [],
   "source": [
    "# property\n",
    "Inst2 = SqlHandler('temp', 'product')\n",
    "\n",
    "data2 = pd.read_csv('data_csv/product.csv')\n",
    "\n",
    "# Inst2.truncate_table()\n",
    "Inst2.insert_many(data2)\n",
    "\n",
    "Inst2.close_cnxn()\n"
   ]
  },
  {
   "cell_type": "markdown",
   "metadata": {
    "slideshow": {
     "slide_type": "subslide"
    }
   },
   "source": [
    "#### Insertion Into the Table of Dates"
   ]
  },
  {
   "cell_type": "code",
   "execution_count": null,
   "metadata": {
    "slideshow": {
     "slide_type": "subslide"
    }
   },
   "outputs": [],
   "source": [
    "# date\n",
    "Inst3 = SqlHandler('temp', 'date')\n",
    "\n",
    "data3 = pd.read_csv('data_csv/date.csv')\n",
    "\n",
    "# Inst3.truncate_table()\n",
    "Inst3.insert_many(data3)\n",
    "\n",
    "Inst3.close_cnxn()\n"
   ]
  },
  {
   "cell_type": "markdown",
   "metadata": {
    "slideshow": {
     "slide_type": "subslide"
    }
   },
   "source": [
    "#### Insertion Into the Fact Table of Sales"
   ]
  },
  {
   "cell_type": "code",
   "execution_count": null,
   "metadata": {
    "slideshow": {
     "slide_type": "subslide"
    }
   },
   "outputs": [],
   "source": [
    "# Sale\n",
    "# Create a SQLAlchemy engine and session\n",
    "engine = create_engine('sqlite:///temp.db')\n",
    "Session = sessionmaker(bind=engine)\n",
    "session = Session()\n",
    "\n",
    "# Read CSV file into a list of dictionaries\n",
    "data4 = pd.read_csv('data_csv/sales.csv').to_dict(orient='records')\n",
    "\n",
    "# Insert the sample data into the 'sales_fact' table\n",
    "for data in data4:\n",
    "    sale = Sale(**data)\n",
    "    session.add(sale)\n",
    "\n",
    "# Commit the changes to the database\n",
    "session.commit()\n",
    "\n",
    "# Close the session\n",
    "session.close()"
   ]
  },
  {
   "cell_type": "markdown",
   "metadata": {
    "slideshow": {
     "slide_type": "slide"
    }
   },
   "source": [
    "## 4. Running Queries to Test the Functionality of the Database"
   ]
  },
  {
   "cell_type": "markdown",
   "metadata": {
    "slideshow": {
     "slide_type": "subslide"
    }
   },
   "source": [
    "*Note* : More queries can be found under queries.py and queries.ipynb files."
   ]
  },
  {
   "cell_type": "markdown",
   "metadata": {
    "slideshow": {
     "slide_type": "subslide"
    }
   },
   "source": [
    "#### Loading Modules and Packages"
   ]
  },
  {
   "cell_type": "code",
   "execution_count": 2,
   "metadata": {
    "slideshow": {
     "slide_type": "subslide"
    }
   },
   "outputs": [],
   "source": [
    "from CLV_Analysis.DB.sql_interactions import SqlHandler\n",
    "import pandas as pd"
   ]
  },
  {
   "cell_type": "markdown",
   "metadata": {
    "slideshow": {
     "slide_type": "subslide"
    }
   },
   "source": [
    "#### Creating an Intance of the SQLHandler() Class"
   ]
  },
  {
   "cell_type": "code",
   "execution_count": 3,
   "metadata": {
    "slideshow": {
     "slide_type": "subslide"
    }
   },
   "outputs": [],
   "source": [
    "Inst = SqlHandler('temp', ['sales_fact','transactions',\n",
    "                           'customer','product', 'date'])"
   ]
  },
  {
   "cell_type": "markdown",
   "metadata": {
    "slideshow": {
     "slide_type": "subslide"
    }
   },
   "source": [
    "#### Writing Some Queries"
   ]
  },
  {
   "cell_type": "code",
   "execution_count": 4,
   "metadata": {
    "slideshow": {
     "slide_type": "subslide"
    }
   },
   "outputs": [],
   "source": [
    "# Retrieve customers who made transactions \n",
    "#in the month of January 2022.\n",
    "query1 = \"\"\"SELECT c.*\n",
    "FROM customer c\n",
    "JOIN transactions t\n",
    "ON c.customer_id = t.customer_id\n",
    "JOIN date d\n",
    "ON t.date = d.date\n",
    "WHERE d.year = 2022\n",
    "AND d.month = 1;\"\"\"\n",
    "\n",
    "# Retrieve male customers from Singapore.\n",
    "query2 = \"\"\"SELECT customer_id, customer_name, customer_surname\n",
    "FROM customer\n",
    "WHERE gender = 'Male'\n",
    "AND country = 'Singapore';\"\"\"\n",
    "\n",
    "# Retrieve products with prices greater than $50.\n",
    "query3 = \"\"\"SELECT *\n",
    "FROM product\n",
    "WHERE price > 50;\"\"\""
   ]
  },
  {
   "cell_type": "code",
   "execution_count": 5,
   "metadata": {
    "slideshow": {
     "slide_type": "subslide"
    }
   },
   "outputs": [],
   "source": [
    "queries = [query1,\n",
    "           query2,\n",
    "           query3]"
   ]
  },
  {
   "cell_type": "markdown",
   "metadata": {
    "slideshow": {
     "slide_type": "subslide"
    }
   },
   "source": [
    "#### Executing Queries"
   ]
  },
  {
   "cell_type": "code",
   "execution_count": null,
   "metadata": {
    "slideshow": {
     "slide_type": "subslide"
    }
   },
   "outputs": [],
   "source": [
    "ls = []\n",
    "for i in queries:\n",
    "    ls.append(Inst.execute_custom_query(i))\n"
   ]
  },
  {
   "cell_type": "markdown",
   "metadata": {
    "slideshow": {
     "slide_type": "subslide"
    }
   },
   "source": [
    "#### Printing Results"
   ]
  },
  {
   "cell_type": "code",
   "execution_count": 7,
   "metadata": {
    "slideshow": {
     "slide_type": "subslide"
    }
   },
   "outputs": [
    {
     "name": "stdout",
     "output_type": "stream",
     "text": [
      "query 1\n",
      "      0         1         2                             3   \\\n",
      "0    502    Andrew        Li     stantonamanda@example.org   \n",
      "1    303     Jerry    Lucero    butlerkimberly@example.net   \n",
      "2   1735     David     Ramos           emily79@example.org   \n",
      "3    438  Samantha     Tyler           cathy96@example.net   \n",
      "4     76      Erin      Luna            yjones@example.com   \n",
      "5    828      Lisa   Jenkins          teresa83@example.com   \n",
      "6   1828     Diana    Moreno             xdean@example.org   \n",
      "7   1669    Tamara     Smith            nwhite@example.net   \n",
      "8   1283       Amy  Hatfield          knichols@example.net   \n",
      "9    465      Ryan   Johnson         roselewis@example.com   \n",
      "10   318   Annette   Russell  davischristopher@example.com   \n",
      "\n",
      "                        4                      5                  6   \\\n",
      "0      (620)797-6307x26529           Turkmenistan          New Maria   \n",
      "1   001-955-725-1142x66716                Somalia     Melissachester   \n",
      "2         001-862-741-2937               Suriname          New Dylan   \n",
      "3        981-931-5728x9378  Saint Kitts and Nevis         Willisland   \n",
      "4        295.857.0263x3668                Andorra       Port Rebecca   \n",
      "5    001-214-242-5466x9323                   Fiji          Simsmouth   \n",
      "6          +1-299-333-2760              Lithuania          Chasefort   \n",
      "7             936.600.3461                  Qatar        Shannonberg   \n",
      "8     +1-713-226-8649x4253    Antigua and Barbuda     New Joanneland   \n",
      "9      +1-346-307-4329x804               Dominica         Henryshire   \n",
      "10       949.633.6462x8246           Sierra Leone  South Michaelside   \n",
      "\n",
      "                                 7      8           9                  10  \n",
      "0                246 Blackwell Ford  91099  1986-06-17  Prefer Not To Say  \n",
      "1               760 Solomon Heights  44113  1932-10-16             Female  \n",
      "2               728 Martinez Valley  13559  1975-10-27               Male  \n",
      "3                   2653 Hale Cliff  93654  1954-12-20  Prefer Not To Say  \n",
      "4             423 Amy Land Apt. 244  45639  1978-12-16             Female  \n",
      "5                 287 Sanchez River  44209  1936-07-08             Female  \n",
      "6   57896 Steele Motorway Suite 351   2273  1969-11-29              Other  \n",
      "7            648 Christina Overpass  34124  1961-11-06               Male  \n",
      "8         1163 Joshua Burg Apt. 552  17333  1974-12-13              Other  \n",
      "9        518 Thomas Square Apt. 980    508  1944-10-31              Other  \n",
      "10               469 William Plains  41033  1935-03-22              Other  \n",
      "_______________\n",
      "query 2\n",
      "      0       1       2\n",
      "0    84  Walter  Taylor\n",
      "1  1272  Edward   Davis\n",
      "2  2512   Kayla  Moreno\n",
      "_______________\n",
      "query 3\n",
      "         0      1         2                      3      4\n",
      "0        0  6D27A  Jewelery                Senegal  75.87\n",
      "1        1  A4139    Health                Morocco  99.54\n",
      "2        2  892B7      Home  Palestinian Territory  83.37\n",
      "3        3  70583      Toys                Ireland  56.17\n",
      "4        5  891B3    Sports                  China  81.44\n",
      "...    ...    ...       ...                    ...    ...\n",
      "2542  4993  8B5F6      Baby               Djibouti  94.99\n",
      "2543  4994  870DF    Movies               Dominica  65.80\n",
      "2544  4996  C480D      Kids                 Belize  80.92\n",
      "2545  4997  A6142     Tools            Philippines  65.39\n",
      "2546  4998  DC8F3    Beauty              Singapore  82.09\n",
      "\n",
      "[2547 rows x 5 columns]\n",
      "_______________\n"
     ]
    }
   ],
   "source": [
    "count = 0\n",
    "\n",
    "for i in ls:\n",
    "    count+=1\n",
    "    print(f'query {count}')\n",
    "    print(pd.DataFrame(i))\n",
    "    print(\"_______________\")\n"
   ]
  },
  {
   "cell_type": "markdown",
   "metadata": {
    "slideshow": {
     "slide_type": "slide"
    }
   },
   "source": [
    "## 5. CLV and CLV Prediction with CLTVModel() Class\n",
    "\n",
    "**Reference:** *https://www.kaggle.com/code/mehmeteryilmazz/clv-and-clv-prediction*\n",
    "\n",
    "### Importing the Required Class and Making an Instance"
   ]
  },
  {
   "cell_type": "code",
   "execution_count": 38,
   "metadata": {
    "slideshow": {
     "slide_type": "subslide"
    }
   },
   "outputs": [],
   "source": [
    "from CLV_Analysis.Models.CLTV import CLTVModel"
   ]
  },
  {
   "cell_type": "markdown",
   "metadata": {
    "slideshow": {
     "slide_type": "subslide"
    }
   },
   "source": [
    "#### Instantiate the CLTVModel class"
   ]
  },
  {
   "cell_type": "code",
   "execution_count": 39,
   "metadata": {
    "slideshow": {
     "slide_type": "subslide"
    }
   },
   "outputs": [],
   "source": [
    "cltv_model = CLTVModel()"
   ]
  },
  {
   "cell_type": "markdown",
   "metadata": {
    "slideshow": {
     "slide_type": "subslide"
    }
   },
   "source": [
    "### 5.1. Connecting to DB\n",
    "### 5.2. Deriving Data"
   ]
  },
  {
   "cell_type": "code",
   "execution_count": 40,
   "metadata": {
    "slideshow": {
     "slide_type": "subslide"
    }
   },
   "outputs": [
    {
     "data": {
      "text/html": [
       "<div>\n",
       "<style scoped>\n",
       "    .dataframe tbody tr th:only-of-type {\n",
       "        vertical-align: middle;\n",
       "    }\n",
       "\n",
       "    .dataframe tbody tr th {\n",
       "        vertical-align: top;\n",
       "    }\n",
       "\n",
       "    .dataframe thead th {\n",
       "        text-align: right;\n",
       "    }\n",
       "</style>\n",
       "<table border=\"1\" class=\"dataframe\">\n",
       "  <thead>\n",
       "    <tr style=\"text-align: right;\">\n",
       "      <th></th>\n",
       "      <th>sales_id</th>\n",
       "      <th>date</th>\n",
       "      <th>customer_id</th>\n",
       "      <th>transaction_id</th>\n",
       "      <th>product_category</th>\n",
       "      <th>SKU</th>\n",
       "      <th>quantity</th>\n",
       "      <th>unit_price</th>\n",
       "    </tr>\n",
       "  </thead>\n",
       "  <tbody>\n",
       "    <tr>\n",
       "      <th>0</th>\n",
       "      <td>1</td>\n",
       "      <td>2021-06-05</td>\n",
       "      <td>1098</td>\n",
       "      <td>0</td>\n",
       "      <td>Clothing</td>\n",
       "      <td>4C555</td>\n",
       "      <td>4</td>\n",
       "      <td>44.96</td>\n",
       "    </tr>\n",
       "    <tr>\n",
       "      <th>1</th>\n",
       "      <td>2</td>\n",
       "      <td>2021-06-05</td>\n",
       "      <td>1098</td>\n",
       "      <td>0</td>\n",
       "      <td>Beauty</td>\n",
       "      <td>25F7D</td>\n",
       "      <td>10</td>\n",
       "      <td>90.25</td>\n",
       "    </tr>\n",
       "    <tr>\n",
       "      <th>2</th>\n",
       "      <td>3</td>\n",
       "      <td>2021-06-05</td>\n",
       "      <td>1098</td>\n",
       "      <td>0</td>\n",
       "      <td>Industrial</td>\n",
       "      <td>805A9</td>\n",
       "      <td>13</td>\n",
       "      <td>62.01</td>\n",
       "    </tr>\n",
       "    <tr>\n",
       "      <th>3</th>\n",
       "      <td>4</td>\n",
       "      <td>2021-06-05</td>\n",
       "      <td>1098</td>\n",
       "      <td>0</td>\n",
       "      <td>Automotive</td>\n",
       "      <td>E5CE6</td>\n",
       "      <td>12</td>\n",
       "      <td>1.26</td>\n",
       "    </tr>\n",
       "    <tr>\n",
       "      <th>4</th>\n",
       "      <td>5</td>\n",
       "      <td>2019-12-24</td>\n",
       "      <td>592</td>\n",
       "      <td>1</td>\n",
       "      <td>Electronics</td>\n",
       "      <td>6C804</td>\n",
       "      <td>11</td>\n",
       "      <td>48.97</td>\n",
       "    </tr>\n",
       "    <tr>\n",
       "      <th>...</th>\n",
       "      <td>...</td>\n",
       "      <td>...</td>\n",
       "      <td>...</td>\n",
       "      <td>...</td>\n",
       "      <td>...</td>\n",
       "      <td>...</td>\n",
       "      <td>...</td>\n",
       "      <td>...</td>\n",
       "    </tr>\n",
       "    <tr>\n",
       "      <th>12060</th>\n",
       "      <td>12061</td>\n",
       "      <td>2004-12-18</td>\n",
       "      <td>1945</td>\n",
       "      <td>3998</td>\n",
       "      <td>Garden</td>\n",
       "      <td>565D6</td>\n",
       "      <td>2</td>\n",
       "      <td>80.28</td>\n",
       "    </tr>\n",
       "    <tr>\n",
       "      <th>12061</th>\n",
       "      <td>12062</td>\n",
       "      <td>2004-12-18</td>\n",
       "      <td>1945</td>\n",
       "      <td>3998</td>\n",
       "      <td>Movies</td>\n",
       "      <td>EBB51</td>\n",
       "      <td>1</td>\n",
       "      <td>85.29</td>\n",
       "    </tr>\n",
       "    <tr>\n",
       "      <th>12062</th>\n",
       "      <td>12063</td>\n",
       "      <td>2004-12-18</td>\n",
       "      <td>1945</td>\n",
       "      <td>3998</td>\n",
       "      <td>Games</td>\n",
       "      <td>F3DF3</td>\n",
       "      <td>18</td>\n",
       "      <td>36.95</td>\n",
       "    </tr>\n",
       "    <tr>\n",
       "      <th>12063</th>\n",
       "      <td>12064</td>\n",
       "      <td>2014-07-13</td>\n",
       "      <td>1310</td>\n",
       "      <td>3999</td>\n",
       "      <td>Home</td>\n",
       "      <td>70967</td>\n",
       "      <td>12</td>\n",
       "      <td>9.78</td>\n",
       "    </tr>\n",
       "    <tr>\n",
       "      <th>12064</th>\n",
       "      <td>12065</td>\n",
       "      <td>2014-07-13</td>\n",
       "      <td>1310</td>\n",
       "      <td>3999</td>\n",
       "      <td>Music</td>\n",
       "      <td>9F65F</td>\n",
       "      <td>2</td>\n",
       "      <td>78.89</td>\n",
       "    </tr>\n",
       "  </tbody>\n",
       "</table>\n",
       "<p>12065 rows × 8 columns</p>\n",
       "</div>"
      ],
      "text/plain": [
       "       sales_id        date  customer_id  transaction_id product_category  \\\n",
       "0             1  2021-06-05         1098               0         Clothing   \n",
       "1             2  2021-06-05         1098               0           Beauty   \n",
       "2             3  2021-06-05         1098               0       Industrial   \n",
       "3             4  2021-06-05         1098               0       Automotive   \n",
       "4             5  2019-12-24          592               1      Electronics   \n",
       "...         ...         ...          ...             ...              ...   \n",
       "12060     12061  2004-12-18         1945            3998           Garden   \n",
       "12061     12062  2004-12-18         1945            3998           Movies   \n",
       "12062     12063  2004-12-18         1945            3998            Games   \n",
       "12063     12064  2014-07-13         1310            3999             Home   \n",
       "12064     12065  2014-07-13         1310            3999            Music   \n",
       "\n",
       "         SKU  quantity  unit_price  \n",
       "0      4C555         4       44.96  \n",
       "1      25F7D        10       90.25  \n",
       "2      805A9        13       62.01  \n",
       "3      E5CE6        12        1.26  \n",
       "4      6C804        11       48.97  \n",
       "...      ...       ...         ...  \n",
       "12060  565D6         2       80.28  \n",
       "12061  EBB51         1       85.29  \n",
       "12062  F3DF3        18       36.95  \n",
       "12063  70967        12        9.78  \n",
       "12064  9F65F         2       78.89  \n",
       "\n",
       "[12065 rows x 8 columns]"
      ]
     },
     "execution_count": 40,
     "metadata": {},
     "output_type": "execute_result"
    }
   ],
   "source": [
    "# Load data from the SQLite database\n",
    "cltv_model.load_data()"
   ]
  },
  {
   "cell_type": "markdown",
   "metadata": {
    "slideshow": {
     "slide_type": "subslide"
    }
   },
   "source": [
    "### 5.3. Trying to understand the data."
   ]
  },
  {
   "cell_type": "code",
   "execution_count": 41,
   "metadata": {
    "slideshow": {
     "slide_type": "subslide"
    }
   },
   "outputs": [
    {
     "name": "stdout",
     "output_type": "stream",
     "text": [
      "################### Shape ####################\n",
      "(12065, 8)\n",
      "#################### Info #####################\n",
      "<class 'pandas.core.frame.DataFrame'>\n",
      "RangeIndex: 12065 entries, 0 to 12064\n",
      "Data columns (total 8 columns):\n",
      " #   Column            Non-Null Count  Dtype  \n",
      "---  ------            --------------  -----  \n",
      " 0   sales_id          12065 non-null  int64  \n",
      " 1   date              12065 non-null  object \n",
      " 2   customer_id       12065 non-null  int64  \n",
      " 3   transaction_id    12065 non-null  int64  \n",
      " 4   product_category  12065 non-null  object \n",
      " 5   SKU               12065 non-null  object \n",
      " 6   quantity          12065 non-null  int64  \n",
      " 7   unit_price        12065 non-null  float64\n",
      "dtypes: float64(1), int64(4), object(3)\n",
      "memory usage: 754.2+ KB\n",
      "None\n",
      "################### Nunique ###################\n",
      "sales_id            12065\n",
      "date                 3206\n",
      "customer_id          2186\n",
      "transaction_id       4000\n",
      "product_category       22\n",
      "SKU                  4582\n",
      "quantity               19\n",
      "unit_price           3693\n",
      "dtype: int64\n",
      "##################### NA #####################\n",
      "sales_id            0\n",
      "date                0\n",
      "customer_id         0\n",
      "transaction_id      0\n",
      "product_category    0\n",
      "SKU                 0\n",
      "quantity            0\n",
      "unit_price          0\n",
      "dtype: int64\n",
      "################## Quantiles #################\n",
      "                  count         mean          std  min   0%      5%      50%  \\\n",
      "sales_id        12065.0  6033.000000  3483.009833  1.0  1.0  604.20  6033.00   \n",
      "customer_id     12065.0  1484.649068   885.550099  0.0  0.0  129.00  1472.00   \n",
      "transaction_id  12065.0  1999.892582  1158.593958  0.0  0.0  200.20  2010.00   \n",
      "quantity        12065.0    10.030419     5.462570  1.0  1.0    1.00    10.00   \n",
      "unit_price      12065.0    50.758749    28.161940  1.0  1.0    6.58    50.62   \n",
      "\n",
      "                    95%       99%      100%       max  \n",
      "sales_id        11461.8  11944.36  12065.00  12065.00  \n",
      "customer_id      2855.0   2956.36   2999.00   2999.00  \n",
      "transaction_id   3793.0   3955.36   3999.00   3999.00  \n",
      "quantity           18.8     19.00     19.00     19.00  \n",
      "unit_price         95.3     99.01     99.99     99.99  \n",
      "#################### Head ####################\n",
      "   sales_id        date  customer_id  transaction_id product_category    SKU  \\\n",
      "0         1  2021-06-05         1098               0         Clothing  4C555   \n",
      "1         2  2021-06-05         1098               0           Beauty  25F7D   \n",
      "2         3  2021-06-05         1098               0       Industrial  805A9   \n",
      "3         4  2021-06-05         1098               0       Automotive  E5CE6   \n",
      "4         5  2019-12-24          592               1      Electronics  6C804   \n",
      "5         6  2019-12-24          592               1      Electronics  90326   \n",
      "6         7  2002-09-27          580               2           Movies  7DFBF   \n",
      "\n",
      "   quantity  unit_price  \n",
      "0         4       44.96  \n",
      "1        10       90.25  \n",
      "2        13       62.01  \n",
      "3        12        1.26  \n",
      "4        11       48.97  \n",
      "5        13       54.32  \n",
      "6        19       57.76  \n"
     ]
    }
   ],
   "source": [
    "# Check the loaded data\n",
    "cltv_model.check_data()"
   ]
  },
  {
   "cell_type": "markdown",
   "metadata": {
    "slideshow": {
     "slide_type": "subslide"
    }
   },
   "source": [
    "### **What is Customer Lifetime Value(CLV)?**\n",
    "\n",
    "***The monetary value a customer will bring to a company during their relationship and communication is known as \"customer lifetime value.\"***\n",
    "\n",
    "This will be achieved by using the formulas below:\n",
    "\n",
    "* **Repeat rate:** number of customers who make multiple purchases / all customers\n",
    "\n",
    "* **Churn rate:** 1 - repeat rate\n",
    "\n",
    "* **Purchase frequency:** total transactions / total number of unique customers\n",
    "\n",
    "* **Average order value:** total price / total transactions\n",
    "\n",
    "* **Customer value:** average order value * purchase frequency\n",
    "\n",
    "* **Profit margin:** total price * profit margin rate(provided by the company)\n",
    "\n",
    "* **CLV** = (customer value / churn rate) * profit margin\n",
    "\n",
    "*Customers are segmented based on the generated CLV value, and operations are carried out according to these segments.*\n",
    "\n",
    "#### **Dataset Details**\n",
    "\n",
    "* **sale_id**: Unique Sale ID Number for each Respective Sale\n",
    "\n",
    "* **date**: Date of Sales Transaction\n",
    "\n",
    "* **customer_id**: Unique Customer iID for each Customer\n",
    "\n",
    "* **transaction_id**: ID of the Transaction\n",
    "\n",
    "* **product_category**: Product Category Name\n",
    "\n",
    "* **SKU**: Product Code\n",
    "\n",
    "* **quantity**: Number of Items Sold in the Transaction\n",
    "\n",
    "* **unit_price** : Unit Price of the Respective Product"
   ]
  },
  {
   "cell_type": "markdown",
   "metadata": {
    "slideshow": {
     "slide_type": "subslide"
    }
   },
   "source": [
    "#### Calculate sales amount for each transaction"
   ]
  },
  {
   "cell_type": "code",
   "execution_count": 42,
   "metadata": {
    "slideshow": {
     "slide_type": "subslide"
    }
   },
   "outputs": [
    {
     "data": {
      "text/html": [
       "<div>\n",
       "<style scoped>\n",
       "    .dataframe tbody tr th:only-of-type {\n",
       "        vertical-align: middle;\n",
       "    }\n",
       "\n",
       "    .dataframe tbody tr th {\n",
       "        vertical-align: top;\n",
       "    }\n",
       "\n",
       "    .dataframe thead th {\n",
       "        text-align: right;\n",
       "    }\n",
       "</style>\n",
       "<table border=\"1\" class=\"dataframe\">\n",
       "  <thead>\n",
       "    <tr style=\"text-align: right;\">\n",
       "      <th></th>\n",
       "      <th>sales_id</th>\n",
       "      <th>date</th>\n",
       "      <th>customer_id</th>\n",
       "      <th>transaction_id</th>\n",
       "      <th>product_category</th>\n",
       "      <th>SKU</th>\n",
       "      <th>quantity</th>\n",
       "      <th>unit_price</th>\n",
       "      <th>sales_amount</th>\n",
       "    </tr>\n",
       "  </thead>\n",
       "  <tbody>\n",
       "    <tr>\n",
       "      <th>0</th>\n",
       "      <td>1</td>\n",
       "      <td>2021-06-05</td>\n",
       "      <td>1098</td>\n",
       "      <td>0</td>\n",
       "      <td>Clothing</td>\n",
       "      <td>4C555</td>\n",
       "      <td>4</td>\n",
       "      <td>44.96</td>\n",
       "      <td>179.84</td>\n",
       "    </tr>\n",
       "    <tr>\n",
       "      <th>1</th>\n",
       "      <td>2</td>\n",
       "      <td>2021-06-05</td>\n",
       "      <td>1098</td>\n",
       "      <td>0</td>\n",
       "      <td>Beauty</td>\n",
       "      <td>25F7D</td>\n",
       "      <td>10</td>\n",
       "      <td>90.25</td>\n",
       "      <td>902.50</td>\n",
       "    </tr>\n",
       "    <tr>\n",
       "      <th>2</th>\n",
       "      <td>3</td>\n",
       "      <td>2021-06-05</td>\n",
       "      <td>1098</td>\n",
       "      <td>0</td>\n",
       "      <td>Industrial</td>\n",
       "      <td>805A9</td>\n",
       "      <td>13</td>\n",
       "      <td>62.01</td>\n",
       "      <td>806.13</td>\n",
       "    </tr>\n",
       "    <tr>\n",
       "      <th>3</th>\n",
       "      <td>4</td>\n",
       "      <td>2021-06-05</td>\n",
       "      <td>1098</td>\n",
       "      <td>0</td>\n",
       "      <td>Automotive</td>\n",
       "      <td>E5CE6</td>\n",
       "      <td>12</td>\n",
       "      <td>1.26</td>\n",
       "      <td>15.12</td>\n",
       "    </tr>\n",
       "    <tr>\n",
       "      <th>4</th>\n",
       "      <td>5</td>\n",
       "      <td>2019-12-24</td>\n",
       "      <td>592</td>\n",
       "      <td>1</td>\n",
       "      <td>Electronics</td>\n",
       "      <td>6C804</td>\n",
       "      <td>11</td>\n",
       "      <td>48.97</td>\n",
       "      <td>538.67</td>\n",
       "    </tr>\n",
       "  </tbody>\n",
       "</table>\n",
       "</div>"
      ],
      "text/plain": [
       "   sales_id        date  customer_id  transaction_id product_category    SKU  \\\n",
       "0         1  2021-06-05         1098               0         Clothing  4C555   \n",
       "1         2  2021-06-05         1098               0           Beauty  25F7D   \n",
       "2         3  2021-06-05         1098               0       Industrial  805A9   \n",
       "3         4  2021-06-05         1098               0       Automotive  E5CE6   \n",
       "4         5  2019-12-24          592               1      Electronics  6C804   \n",
       "\n",
       "   quantity  unit_price  sales_amount  \n",
       "0         4       44.96        179.84  \n",
       "1        10       90.25        902.50  \n",
       "2        13       62.01        806.13  \n",
       "3        12        1.26         15.12  \n",
       "4        11       48.97        538.67  "
      ]
     },
     "execution_count": 42,
     "metadata": {},
     "output_type": "execute_result"
    }
   ],
   "source": [
    "cltv_model.calculate_sales_amount().head()"
   ]
  },
  {
   "cell_type": "markdown",
   "metadata": {
    "slideshow": {
     "slide_type": "subslide"
    }
   },
   "source": [
    "#### Calculate customer summary"
   ]
  },
  {
   "cell_type": "code",
   "execution_count": 43,
   "metadata": {
    "slideshow": {
     "slide_type": "subslide"
    }
   },
   "outputs": [
    {
     "data": {
      "text/html": [
       "<div>\n",
       "<style scoped>\n",
       "    .dataframe tbody tr th:only-of-type {\n",
       "        vertical-align: middle;\n",
       "    }\n",
       "\n",
       "    .dataframe tbody tr th {\n",
       "        vertical-align: top;\n",
       "    }\n",
       "\n",
       "    .dataframe thead th {\n",
       "        text-align: right;\n",
       "    }\n",
       "</style>\n",
       "<table border=\"1\" class=\"dataframe\">\n",
       "  <thead>\n",
       "    <tr style=\"text-align: right;\">\n",
       "      <th></th>\n",
       "      <th>total_transactions</th>\n",
       "      <th>total_sales_amount</th>\n",
       "    </tr>\n",
       "    <tr>\n",
       "      <th>customer_id</th>\n",
       "      <th></th>\n",
       "      <th></th>\n",
       "    </tr>\n",
       "  </thead>\n",
       "  <tbody>\n",
       "    <tr>\n",
       "      <th>0</th>\n",
       "      <td>2</td>\n",
       "      <td>2709.35</td>\n",
       "    </tr>\n",
       "    <tr>\n",
       "      <th>1</th>\n",
       "      <td>1</td>\n",
       "      <td>3405.42</td>\n",
       "    </tr>\n",
       "    <tr>\n",
       "      <th>2</th>\n",
       "      <td>1</td>\n",
       "      <td>1679.49</td>\n",
       "    </tr>\n",
       "    <tr>\n",
       "      <th>3</th>\n",
       "      <td>2</td>\n",
       "      <td>3427.36</td>\n",
       "    </tr>\n",
       "    <tr>\n",
       "      <th>4</th>\n",
       "      <td>4</td>\n",
       "      <td>10040.15</td>\n",
       "    </tr>\n",
       "  </tbody>\n",
       "</table>\n",
       "</div>"
      ],
      "text/plain": [
       "             total_transactions  total_sales_amount\n",
       "customer_id                                        \n",
       "0                             2             2709.35\n",
       "1                             1             3405.42\n",
       "2                             1             1679.49\n",
       "3                             2             3427.36\n",
       "4                             4            10040.15"
      ]
     },
     "execution_count": 43,
     "metadata": {},
     "output_type": "execute_result"
    }
   ],
   "source": [
    "cltv_model.calculate_customer_summary().head()"
   ]
  },
  {
   "cell_type": "markdown",
   "metadata": {
    "slideshow": {
     "slide_type": "subslide"
    }
   },
   "source": [
    "#### Calculate average order value"
   ]
  },
  {
   "cell_type": "code",
   "execution_count": 44,
   "metadata": {
    "slideshow": {
     "slide_type": "subslide"
    }
   },
   "outputs": [
    {
     "data": {
      "text/html": [
       "<div>\n",
       "<style scoped>\n",
       "    .dataframe tbody tr th:only-of-type {\n",
       "        vertical-align: middle;\n",
       "    }\n",
       "\n",
       "    .dataframe tbody tr th {\n",
       "        vertical-align: top;\n",
       "    }\n",
       "\n",
       "    .dataframe thead th {\n",
       "        text-align: right;\n",
       "    }\n",
       "</style>\n",
       "<table border=\"1\" class=\"dataframe\">\n",
       "  <thead>\n",
       "    <tr style=\"text-align: right;\">\n",
       "      <th></th>\n",
       "      <th>total_transactions</th>\n",
       "      <th>total_sales_amount</th>\n",
       "      <th>average_order_value</th>\n",
       "    </tr>\n",
       "    <tr>\n",
       "      <th>customer_id</th>\n",
       "      <th></th>\n",
       "      <th></th>\n",
       "      <th></th>\n",
       "    </tr>\n",
       "  </thead>\n",
       "  <tbody>\n",
       "    <tr>\n",
       "      <th>0</th>\n",
       "      <td>2</td>\n",
       "      <td>2709.35</td>\n",
       "      <td>1354.6750</td>\n",
       "    </tr>\n",
       "    <tr>\n",
       "      <th>1</th>\n",
       "      <td>1</td>\n",
       "      <td>3405.42</td>\n",
       "      <td>3405.4200</td>\n",
       "    </tr>\n",
       "    <tr>\n",
       "      <th>2</th>\n",
       "      <td>1</td>\n",
       "      <td>1679.49</td>\n",
       "      <td>1679.4900</td>\n",
       "    </tr>\n",
       "    <tr>\n",
       "      <th>3</th>\n",
       "      <td>2</td>\n",
       "      <td>3427.36</td>\n",
       "      <td>1713.6800</td>\n",
       "    </tr>\n",
       "    <tr>\n",
       "      <th>4</th>\n",
       "      <td>4</td>\n",
       "      <td>10040.15</td>\n",
       "      <td>2510.0375</td>\n",
       "    </tr>\n",
       "  </tbody>\n",
       "</table>\n",
       "</div>"
      ],
      "text/plain": [
       "             total_transactions  total_sales_amount  average_order_value\n",
       "customer_id                                                             \n",
       "0                             2             2709.35            1354.6750\n",
       "1                             1             3405.42            3405.4200\n",
       "2                             1             1679.49            1679.4900\n",
       "3                             2             3427.36            1713.6800\n",
       "4                             4            10040.15            2510.0375"
      ]
     },
     "execution_count": 44,
     "metadata": {},
     "output_type": "execute_result"
    }
   ],
   "source": [
    "cltv_model.calculate_average_order_value().head()"
   ]
  },
  {
   "cell_type": "markdown",
   "metadata": {
    "slideshow": {
     "slide_type": "subslide"
    }
   },
   "source": [
    "#### Calculate purchase frequency"
   ]
  },
  {
   "cell_type": "code",
   "execution_count": 45,
   "metadata": {
    "slideshow": {
     "slide_type": "subslide"
    }
   },
   "outputs": [
    {
     "data": {
      "text/html": [
       "<div>\n",
       "<style scoped>\n",
       "    .dataframe tbody tr th:only-of-type {\n",
       "        vertical-align: middle;\n",
       "    }\n",
       "\n",
       "    .dataframe tbody tr th {\n",
       "        vertical-align: top;\n",
       "    }\n",
       "\n",
       "    .dataframe thead th {\n",
       "        text-align: right;\n",
       "    }\n",
       "</style>\n",
       "<table border=\"1\" class=\"dataframe\">\n",
       "  <thead>\n",
       "    <tr style=\"text-align: right;\">\n",
       "      <th></th>\n",
       "      <th>total_transactions</th>\n",
       "      <th>total_sales_amount</th>\n",
       "      <th>average_order_value</th>\n",
       "      <th>purchase_frequency</th>\n",
       "    </tr>\n",
       "    <tr>\n",
       "      <th>customer_id</th>\n",
       "      <th></th>\n",
       "      <th></th>\n",
       "      <th></th>\n",
       "      <th></th>\n",
       "    </tr>\n",
       "  </thead>\n",
       "  <tbody>\n",
       "    <tr>\n",
       "      <th>0</th>\n",
       "      <td>2</td>\n",
       "      <td>2709.35</td>\n",
       "      <td>1354.6750</td>\n",
       "      <td>0.000915</td>\n",
       "    </tr>\n",
       "    <tr>\n",
       "      <th>1</th>\n",
       "      <td>1</td>\n",
       "      <td>3405.42</td>\n",
       "      <td>3405.4200</td>\n",
       "      <td>0.000457</td>\n",
       "    </tr>\n",
       "    <tr>\n",
       "      <th>2</th>\n",
       "      <td>1</td>\n",
       "      <td>1679.49</td>\n",
       "      <td>1679.4900</td>\n",
       "      <td>0.000457</td>\n",
       "    </tr>\n",
       "    <tr>\n",
       "      <th>3</th>\n",
       "      <td>2</td>\n",
       "      <td>3427.36</td>\n",
       "      <td>1713.6800</td>\n",
       "      <td>0.000915</td>\n",
       "    </tr>\n",
       "    <tr>\n",
       "      <th>4</th>\n",
       "      <td>4</td>\n",
       "      <td>10040.15</td>\n",
       "      <td>2510.0375</td>\n",
       "      <td>0.001830</td>\n",
       "    </tr>\n",
       "  </tbody>\n",
       "</table>\n",
       "</div>"
      ],
      "text/plain": [
       "             total_transactions  total_sales_amount  average_order_value  \\\n",
       "customer_id                                                                \n",
       "0                             2             2709.35            1354.6750   \n",
       "1                             1             3405.42            3405.4200   \n",
       "2                             1             1679.49            1679.4900   \n",
       "3                             2             3427.36            1713.6800   \n",
       "4                             4            10040.15            2510.0375   \n",
       "\n",
       "             purchase_frequency  \n",
       "customer_id                      \n",
       "0                      0.000915  \n",
       "1                      0.000457  \n",
       "2                      0.000457  \n",
       "3                      0.000915  \n",
       "4                      0.001830  "
      ]
     },
     "execution_count": 45,
     "metadata": {},
     "output_type": "execute_result"
    }
   ],
   "source": [
    "cltv_model.calculate_purchase_frequency().head()"
   ]
  },
  {
   "cell_type": "markdown",
   "metadata": {
    "slideshow": {
     "slide_type": "subslide"
    }
   },
   "source": [
    "#### Calculate repeat rate"
   ]
  },
  {
   "cell_type": "code",
   "execution_count": 46,
   "metadata": {
    "slideshow": {
     "slide_type": "subslide"
    }
   },
   "outputs": [
    {
     "data": {
      "text/plain": [
       "0.5315645013723697"
      ]
     },
     "execution_count": 46,
     "metadata": {},
     "output_type": "execute_result"
    }
   ],
   "source": [
    "cltv_model.calculate_repeat_rate()"
   ]
  },
  {
   "cell_type": "markdown",
   "metadata": {
    "slideshow": {
     "slide_type": "subslide"
    }
   },
   "source": [
    "#### Calculate churn rate"
   ]
  },
  {
   "cell_type": "code",
   "execution_count": 47,
   "metadata": {
    "slideshow": {
     "slide_type": "subslide"
    }
   },
   "outputs": [
    {
     "data": {
      "text/plain": [
       "0.46843549862763034"
      ]
     },
     "execution_count": 47,
     "metadata": {},
     "output_type": "execute_result"
    }
   ],
   "source": [
    "cltv_model.calculate_churn_rate()"
   ]
  },
  {
   "cell_type": "markdown",
   "metadata": {
    "slideshow": {
     "slide_type": "subslide"
    }
   },
   "source": [
    "#### Calculate profit margin"
   ]
  },
  {
   "cell_type": "code",
   "execution_count": 48,
   "metadata": {
    "slideshow": {
     "slide_type": "subslide"
    }
   },
   "outputs": [
    {
     "data": {
      "text/html": [
       "<div>\n",
       "<style scoped>\n",
       "    .dataframe tbody tr th:only-of-type {\n",
       "        vertical-align: middle;\n",
       "    }\n",
       "\n",
       "    .dataframe tbody tr th {\n",
       "        vertical-align: top;\n",
       "    }\n",
       "\n",
       "    .dataframe thead th {\n",
       "        text-align: right;\n",
       "    }\n",
       "</style>\n",
       "<table border=\"1\" class=\"dataframe\">\n",
       "  <thead>\n",
       "    <tr style=\"text-align: right;\">\n",
       "      <th></th>\n",
       "      <th>total_transactions</th>\n",
       "      <th>total_sales_amount</th>\n",
       "      <th>average_order_value</th>\n",
       "      <th>purchase_frequency</th>\n",
       "      <th>profit_margin</th>\n",
       "    </tr>\n",
       "    <tr>\n",
       "      <th>customer_id</th>\n",
       "      <th></th>\n",
       "      <th></th>\n",
       "      <th></th>\n",
       "      <th></th>\n",
       "      <th></th>\n",
       "    </tr>\n",
       "  </thead>\n",
       "  <tbody>\n",
       "    <tr>\n",
       "      <th>0</th>\n",
       "      <td>2</td>\n",
       "      <td>2709.35</td>\n",
       "      <td>1354.6750</td>\n",
       "      <td>0.000915</td>\n",
       "      <td>270.935</td>\n",
       "    </tr>\n",
       "    <tr>\n",
       "      <th>1</th>\n",
       "      <td>1</td>\n",
       "      <td>3405.42</td>\n",
       "      <td>3405.4200</td>\n",
       "      <td>0.000457</td>\n",
       "      <td>340.542</td>\n",
       "    </tr>\n",
       "    <tr>\n",
       "      <th>2</th>\n",
       "      <td>1</td>\n",
       "      <td>1679.49</td>\n",
       "      <td>1679.4900</td>\n",
       "      <td>0.000457</td>\n",
       "      <td>167.949</td>\n",
       "    </tr>\n",
       "    <tr>\n",
       "      <th>3</th>\n",
       "      <td>2</td>\n",
       "      <td>3427.36</td>\n",
       "      <td>1713.6800</td>\n",
       "      <td>0.000915</td>\n",
       "      <td>342.736</td>\n",
       "    </tr>\n",
       "    <tr>\n",
       "      <th>4</th>\n",
       "      <td>4</td>\n",
       "      <td>10040.15</td>\n",
       "      <td>2510.0375</td>\n",
       "      <td>0.001830</td>\n",
       "      <td>1004.015</td>\n",
       "    </tr>\n",
       "  </tbody>\n",
       "</table>\n",
       "</div>"
      ],
      "text/plain": [
       "             total_transactions  total_sales_amount  average_order_value  \\\n",
       "customer_id                                                                \n",
       "0                             2             2709.35            1354.6750   \n",
       "1                             1             3405.42            3405.4200   \n",
       "2                             1             1679.49            1679.4900   \n",
       "3                             2             3427.36            1713.6800   \n",
       "4                             4            10040.15            2510.0375   \n",
       "\n",
       "             purchase_frequency  profit_margin  \n",
       "customer_id                                     \n",
       "0                      0.000915        270.935  \n",
       "1                      0.000457        340.542  \n",
       "2                      0.000457        167.949  \n",
       "3                      0.000915        342.736  \n",
       "4                      0.001830       1004.015  "
      ]
     },
     "execution_count": 48,
     "metadata": {},
     "output_type": "execute_result"
    }
   ],
   "source": [
    "cltv_model.calculate_profit_margin().head()"
   ]
  },
  {
   "cell_type": "markdown",
   "metadata": {
    "slideshow": {
     "slide_type": "subslide"
    }
   },
   "source": [
    "#### Calculate customer value"
   ]
  },
  {
   "cell_type": "code",
   "execution_count": 49,
   "metadata": {
    "slideshow": {
     "slide_type": "subslide"
    }
   },
   "outputs": [
    {
     "data": {
      "text/html": [
       "<div>\n",
       "<style scoped>\n",
       "    .dataframe tbody tr th:only-of-type {\n",
       "        vertical-align: middle;\n",
       "    }\n",
       "\n",
       "    .dataframe tbody tr th {\n",
       "        vertical-align: top;\n",
       "    }\n",
       "\n",
       "    .dataframe thead th {\n",
       "        text-align: right;\n",
       "    }\n",
       "</style>\n",
       "<table border=\"1\" class=\"dataframe\">\n",
       "  <thead>\n",
       "    <tr style=\"text-align: right;\">\n",
       "      <th></th>\n",
       "      <th>total_transactions</th>\n",
       "      <th>total_sales_amount</th>\n",
       "      <th>average_order_value</th>\n",
       "      <th>purchase_frequency</th>\n",
       "      <th>profit_margin</th>\n",
       "      <th>customer_value</th>\n",
       "    </tr>\n",
       "    <tr>\n",
       "      <th>customer_id</th>\n",
       "      <th></th>\n",
       "      <th></th>\n",
       "      <th></th>\n",
       "      <th></th>\n",
       "      <th></th>\n",
       "      <th></th>\n",
       "    </tr>\n",
       "  </thead>\n",
       "  <tbody>\n",
       "    <tr>\n",
       "      <th>0</th>\n",
       "      <td>2</td>\n",
       "      <td>2709.35</td>\n",
       "      <td>1354.6750</td>\n",
       "      <td>0.000915</td>\n",
       "      <td>270.935</td>\n",
       "      <td>1.239410</td>\n",
       "    </tr>\n",
       "    <tr>\n",
       "      <th>1</th>\n",
       "      <td>1</td>\n",
       "      <td>3405.42</td>\n",
       "      <td>3405.4200</td>\n",
       "      <td>0.000457</td>\n",
       "      <td>340.542</td>\n",
       "      <td>1.557832</td>\n",
       "    </tr>\n",
       "    <tr>\n",
       "      <th>2</th>\n",
       "      <td>1</td>\n",
       "      <td>1679.49</td>\n",
       "      <td>1679.4900</td>\n",
       "      <td>0.000457</td>\n",
       "      <td>167.949</td>\n",
       "      <td>0.768294</td>\n",
       "    </tr>\n",
       "    <tr>\n",
       "      <th>3</th>\n",
       "      <td>2</td>\n",
       "      <td>3427.36</td>\n",
       "      <td>1713.6800</td>\n",
       "      <td>0.000915</td>\n",
       "      <td>342.736</td>\n",
       "      <td>1.567868</td>\n",
       "    </tr>\n",
       "    <tr>\n",
       "      <th>4</th>\n",
       "      <td>4</td>\n",
       "      <td>10040.15</td>\n",
       "      <td>2510.0375</td>\n",
       "      <td>0.001830</td>\n",
       "      <td>1004.015</td>\n",
       "      <td>4.592932</td>\n",
       "    </tr>\n",
       "  </tbody>\n",
       "</table>\n",
       "</div>"
      ],
      "text/plain": [
       "             total_transactions  total_sales_amount  average_order_value  \\\n",
       "customer_id                                                                \n",
       "0                             2             2709.35            1354.6750   \n",
       "1                             1             3405.42            3405.4200   \n",
       "2                             1             1679.49            1679.4900   \n",
       "3                             2             3427.36            1713.6800   \n",
       "4                             4            10040.15            2510.0375   \n",
       "\n",
       "             purchase_frequency  profit_margin  customer_value  \n",
       "customer_id                                                     \n",
       "0                      0.000915        270.935        1.239410  \n",
       "1                      0.000457        340.542        1.557832  \n",
       "2                      0.000457        167.949        0.768294  \n",
       "3                      0.000915        342.736        1.567868  \n",
       "4                      0.001830       1004.015        4.592932  "
      ]
     },
     "execution_count": 49,
     "metadata": {},
     "output_type": "execute_result"
    }
   ],
   "source": [
    "cltv_model.calculate_customer_value().head()"
   ]
  },
  {
   "cell_type": "markdown",
   "metadata": {
    "slideshow": {
     "slide_type": "subslide"
    }
   },
   "source": [
    "#### Calculate CLTV"
   ]
  },
  {
   "cell_type": "code",
   "execution_count": 50,
   "metadata": {
    "slideshow": {
     "slide_type": "subslide"
    }
   },
   "outputs": [
    {
     "data": {
      "text/html": [
       "<div>\n",
       "<style scoped>\n",
       "    .dataframe tbody tr th:only-of-type {\n",
       "        vertical-align: middle;\n",
       "    }\n",
       "\n",
       "    .dataframe tbody tr th {\n",
       "        vertical-align: top;\n",
       "    }\n",
       "\n",
       "    .dataframe thead th {\n",
       "        text-align: right;\n",
       "    }\n",
       "</style>\n",
       "<table border=\"1\" class=\"dataframe\">\n",
       "  <thead>\n",
       "    <tr style=\"text-align: right;\">\n",
       "      <th></th>\n",
       "      <th>total_transactions</th>\n",
       "      <th>total_sales_amount</th>\n",
       "      <th>average_order_value</th>\n",
       "      <th>purchase_frequency</th>\n",
       "      <th>profit_margin</th>\n",
       "      <th>customer_value</th>\n",
       "      <th>clv</th>\n",
       "    </tr>\n",
       "    <tr>\n",
       "      <th>customer_id</th>\n",
       "      <th></th>\n",
       "      <th></th>\n",
       "      <th></th>\n",
       "      <th></th>\n",
       "      <th></th>\n",
       "      <th></th>\n",
       "      <th></th>\n",
       "    </tr>\n",
       "  </thead>\n",
       "  <tbody>\n",
       "    <tr>\n",
       "      <th>0</th>\n",
       "      <td>2</td>\n",
       "      <td>2709.35</td>\n",
       "      <td>1354.6750</td>\n",
       "      <td>0.000915</td>\n",
       "      <td>270.935</td>\n",
       "      <td>1.239410</td>\n",
       "      <td>716.853264</td>\n",
       "    </tr>\n",
       "    <tr>\n",
       "      <th>1</th>\n",
       "      <td>1</td>\n",
       "      <td>3405.42</td>\n",
       "      <td>3405.4200</td>\n",
       "      <td>0.000457</td>\n",
       "      <td>340.542</td>\n",
       "      <td>1.557832</td>\n",
       "      <td>1132.508338</td>\n",
       "    </tr>\n",
       "    <tr>\n",
       "      <th>2</th>\n",
       "      <td>1</td>\n",
       "      <td>1679.49</td>\n",
       "      <td>1679.4900</td>\n",
       "      <td>0.000457</td>\n",
       "      <td>167.949</td>\n",
       "      <td>0.768294</td>\n",
       "      <td>275.457682</td>\n",
       "    </tr>\n",
       "    <tr>\n",
       "      <th>3</th>\n",
       "      <td>2</td>\n",
       "      <td>3427.36</td>\n",
       "      <td>1713.6800</td>\n",
       "      <td>0.000915</td>\n",
       "      <td>342.736</td>\n",
       "      <td>1.567868</td>\n",
       "      <td>1147.148103</td>\n",
       "    </tr>\n",
       "    <tr>\n",
       "      <th>4</th>\n",
       "      <td>4</td>\n",
       "      <td>10040.15</td>\n",
       "      <td>2510.0375</td>\n",
       "      <td>0.001830</td>\n",
       "      <td>1004.015</td>\n",
       "      <td>4.592932</td>\n",
       "      <td>9844.200393</td>\n",
       "    </tr>\n",
       "  </tbody>\n",
       "</table>\n",
       "</div>"
      ],
      "text/plain": [
       "             total_transactions  total_sales_amount  average_order_value  \\\n",
       "customer_id                                                                \n",
       "0                             2             2709.35            1354.6750   \n",
       "1                             1             3405.42            3405.4200   \n",
       "2                             1             1679.49            1679.4900   \n",
       "3                             2             3427.36            1713.6800   \n",
       "4                             4            10040.15            2510.0375   \n",
       "\n",
       "             purchase_frequency  profit_margin  customer_value          clv  \n",
       "customer_id                                                                  \n",
       "0                      0.000915        270.935        1.239410   716.853264  \n",
       "1                      0.000457        340.542        1.557832  1132.508338  \n",
       "2                      0.000457        167.949        0.768294   275.457682  \n",
       "3                      0.000915        342.736        1.567868  1147.148103  \n",
       "4                      0.001830       1004.015        4.592932  9844.200393  "
      ]
     },
     "execution_count": 50,
     "metadata": {},
     "output_type": "execute_result"
    }
   ],
   "source": [
    "cltv_tb= cltv_model.calculate_cltv()\n",
    "cltv_tb.head()"
   ]
  },
  {
   "cell_type": "markdown",
   "metadata": {
    "slideshow": {
     "slide_type": "subslide"
    }
   },
   "source": [
    "#### Creating the Segments\n",
    "#### Dividing the CLTV values into 4 parts and creating a segment variable."
   ]
  },
  {
   "cell_type": "code",
   "execution_count": 51,
   "metadata": {
    "slideshow": {
     "slide_type": "subslide"
    }
   },
   "outputs": [
    {
     "data": {
      "text/html": [
       "<div>\n",
       "<style scoped>\n",
       "    .dataframe tbody tr th:only-of-type {\n",
       "        vertical-align: middle;\n",
       "    }\n",
       "\n",
       "    .dataframe tbody tr th {\n",
       "        vertical-align: top;\n",
       "    }\n",
       "\n",
       "    .dataframe thead th {\n",
       "        text-align: right;\n",
       "    }\n",
       "</style>\n",
       "<table border=\"1\" class=\"dataframe\">\n",
       "  <thead>\n",
       "    <tr style=\"text-align: right;\">\n",
       "      <th></th>\n",
       "      <th>total_transactions</th>\n",
       "      <th>total_sales_amount</th>\n",
       "      <th>average_order_value</th>\n",
       "      <th>purchase_frequency</th>\n",
       "      <th>profit_margin</th>\n",
       "      <th>customer_value</th>\n",
       "      <th>clv</th>\n",
       "      <th>segment</th>\n",
       "    </tr>\n",
       "    <tr>\n",
       "      <th>customer_id</th>\n",
       "      <th></th>\n",
       "      <th></th>\n",
       "      <th></th>\n",
       "      <th></th>\n",
       "      <th></th>\n",
       "      <th></th>\n",
       "      <th></th>\n",
       "      <th></th>\n",
       "    </tr>\n",
       "  </thead>\n",
       "  <tbody>\n",
       "    <tr>\n",
       "      <th>36</th>\n",
       "      <td>5</td>\n",
       "      <td>13330.71</td>\n",
       "      <td>2666.142000</td>\n",
       "      <td>0.002287</td>\n",
       "      <td>1333.071</td>\n",
       "      <td>6.098220</td>\n",
       "      <td>17354.280186</td>\n",
       "      <td>A</td>\n",
       "    </tr>\n",
       "    <tr>\n",
       "      <th>1366</th>\n",
       "      <td>7</td>\n",
       "      <td>13066.54</td>\n",
       "      <td>1866.648571</td>\n",
       "      <td>0.003202</td>\n",
       "      <td>1306.654</td>\n",
       "      <td>5.977374</td>\n",
       "      <td>16673.287849</td>\n",
       "      <td>A</td>\n",
       "    </tr>\n",
       "    <tr>\n",
       "      <th>1963</th>\n",
       "      <td>5</td>\n",
       "      <td>13005.09</td>\n",
       "      <td>2601.018000</td>\n",
       "      <td>0.002287</td>\n",
       "      <td>1300.509</td>\n",
       "      <td>5.949263</td>\n",
       "      <td>16516.832608</td>\n",
       "      <td>A</td>\n",
       "    </tr>\n",
       "    <tr>\n",
       "      <th>1184</th>\n",
       "      <td>5</td>\n",
       "      <td>12743.08</td>\n",
       "      <td>2548.616000</td>\n",
       "      <td>0.002287</td>\n",
       "      <td>1274.308</td>\n",
       "      <td>5.829405</td>\n",
       "      <td>15858.016395</td>\n",
       "      <td>A</td>\n",
       "    </tr>\n",
       "    <tr>\n",
       "      <th>1247</th>\n",
       "      <td>5</td>\n",
       "      <td>12728.07</td>\n",
       "      <td>2545.614000</td>\n",
       "      <td>0.002287</td>\n",
       "      <td>1272.807</td>\n",
       "      <td>5.822539</td>\n",
       "      <td>15820.680266</td>\n",
       "      <td>A</td>\n",
       "    </tr>\n",
       "  </tbody>\n",
       "</table>\n",
       "</div>"
      ],
      "text/plain": [
       "             total_transactions  total_sales_amount  average_order_value  \\\n",
       "customer_id                                                                \n",
       "36                            5            13330.71          2666.142000   \n",
       "1366                          7            13066.54          1866.648571   \n",
       "1963                          5            13005.09          2601.018000   \n",
       "1184                          5            12743.08          2548.616000   \n",
       "1247                          5            12728.07          2545.614000   \n",
       "\n",
       "             purchase_frequency  profit_margin  customer_value           clv  \\\n",
       "customer_id                                                                    \n",
       "36                     0.002287       1333.071        6.098220  17354.280186   \n",
       "1366                   0.003202       1306.654        5.977374  16673.287849   \n",
       "1963                   0.002287       1300.509        5.949263  16516.832608   \n",
       "1184                   0.002287       1274.308        5.829405  15858.016395   \n",
       "1247                   0.002287       1272.807        5.822539  15820.680266   \n",
       "\n",
       "            segment  \n",
       "customer_id          \n",
       "36                A  \n",
       "1366              A  \n",
       "1963              A  \n",
       "1184              A  \n",
       "1247              A  "
      ]
     },
     "execution_count": 51,
     "metadata": {},
     "output_type": "execute_result"
    }
   ],
   "source": [
    "cltv_model.create_segments(customer_summary_pr=cltv_tb).head()"
   ]
  },
  {
   "cell_type": "markdown",
   "metadata": {
    "slideshow": {
     "slide_type": "subslide"
    }
   },
   "source": [
    "#### Display the summary of segments"
   ]
  },
  {
   "cell_type": "code",
   "execution_count": 52,
   "metadata": {
    "slideshow": {
     "slide_type": "subslide"
    }
   },
   "outputs": [
    {
     "data": {
      "text/html": [
       "<div>\n",
       "<style scoped>\n",
       "    .dataframe tbody tr th:only-of-type {\n",
       "        vertical-align: middle;\n",
       "    }\n",
       "\n",
       "    .dataframe tbody tr th {\n",
       "        vertical-align: top;\n",
       "    }\n",
       "\n",
       "    .dataframe thead tr th {\n",
       "        text-align: left;\n",
       "    }\n",
       "\n",
       "    .dataframe thead tr:last-of-type th {\n",
       "        text-align: right;\n",
       "    }\n",
       "</style>\n",
       "<table border=\"1\" class=\"dataframe\">\n",
       "  <thead>\n",
       "    <tr>\n",
       "      <th></th>\n",
       "      <th colspan=\"3\" halign=\"left\">total_transactions</th>\n",
       "      <th colspan=\"3\" halign=\"left\">total_sales_amount</th>\n",
       "      <th colspan=\"3\" halign=\"left\">average_order_value</th>\n",
       "      <th colspan=\"3\" halign=\"left\">purchase_frequency</th>\n",
       "      <th colspan=\"3\" halign=\"left\">profit_margin</th>\n",
       "      <th colspan=\"3\" halign=\"left\">customer_value</th>\n",
       "      <th colspan=\"3\" halign=\"left\">clv</th>\n",
       "    </tr>\n",
       "    <tr>\n",
       "      <th></th>\n",
       "      <th>sum</th>\n",
       "      <th>count</th>\n",
       "      <th>mean</th>\n",
       "      <th>sum</th>\n",
       "      <th>count</th>\n",
       "      <th>mean</th>\n",
       "      <th>sum</th>\n",
       "      <th>count</th>\n",
       "      <th>mean</th>\n",
       "      <th>sum</th>\n",
       "      <th>...</th>\n",
       "      <th>mean</th>\n",
       "      <th>sum</th>\n",
       "      <th>count</th>\n",
       "      <th>mean</th>\n",
       "      <th>sum</th>\n",
       "      <th>count</th>\n",
       "      <th>mean</th>\n",
       "      <th>sum</th>\n",
       "      <th>count</th>\n",
       "      <th>mean</th>\n",
       "    </tr>\n",
       "    <tr>\n",
       "      <th>segment</th>\n",
       "      <th></th>\n",
       "      <th></th>\n",
       "      <th></th>\n",
       "      <th></th>\n",
       "      <th></th>\n",
       "      <th></th>\n",
       "      <th></th>\n",
       "      <th></th>\n",
       "      <th></th>\n",
       "      <th></th>\n",
       "      <th></th>\n",
       "      <th></th>\n",
       "      <th></th>\n",
       "      <th></th>\n",
       "      <th></th>\n",
       "      <th></th>\n",
       "      <th></th>\n",
       "      <th></th>\n",
       "      <th></th>\n",
       "      <th></th>\n",
       "      <th></th>\n",
       "    </tr>\n",
       "  </thead>\n",
       "  <tbody>\n",
       "    <tr>\n",
       "      <th>D</th>\n",
       "      <td>624</td>\n",
       "      <td>547</td>\n",
       "      <td>1.140768</td>\n",
       "      <td>372034.01</td>\n",
       "      <td>547</td>\n",
       "      <td>680.135302</td>\n",
       "      <td>3.410161e+05</td>\n",
       "      <td>547</td>\n",
       "      <td>623.429741</td>\n",
       "      <td>0.285453</td>\n",
       "      <td>...</td>\n",
       "      <td>0.000522</td>\n",
       "      <td>37203.401</td>\n",
       "      <td>547</td>\n",
       "      <td>68.013530</td>\n",
       "      <td>170.189392</td>\n",
       "      <td>547</td>\n",
       "      <td>0.311132</td>\n",
       "      <td>3.142849e+04</td>\n",
       "      <td>547</td>\n",
       "      <td>57.456097</td>\n",
       "    </tr>\n",
       "    <tr>\n",
       "      <th>C</th>\n",
       "      <td>765</td>\n",
       "      <td>546</td>\n",
       "      <td>1.401099</td>\n",
       "      <td>978890.74</td>\n",
       "      <td>546</td>\n",
       "      <td>1792.840183</td>\n",
       "      <td>7.943456e+05</td>\n",
       "      <td>546</td>\n",
       "      <td>1454.845449</td>\n",
       "      <td>0.349954</td>\n",
       "      <td>...</td>\n",
       "      <td>0.000641</td>\n",
       "      <td>97889.074</td>\n",
       "      <td>546</td>\n",
       "      <td>179.284018</td>\n",
       "      <td>447.799973</td>\n",
       "      <td>546</td>\n",
       "      <td>0.820146</td>\n",
       "      <td>1.767417e+05</td>\n",
       "      <td>546</td>\n",
       "      <td>323.702829</td>\n",
       "    </tr>\n",
       "    <tr>\n",
       "      <th>B</th>\n",
       "      <td>1047</td>\n",
       "      <td>546</td>\n",
       "      <td>1.917582</td>\n",
       "      <td>1702866.32</td>\n",
       "      <td>546</td>\n",
       "      <td>3118.802784</td>\n",
       "      <td>1.038962e+06</td>\n",
       "      <td>546</td>\n",
       "      <td>1902.861523</td>\n",
       "      <td>0.478957</td>\n",
       "      <td>...</td>\n",
       "      <td>0.000877</td>\n",
       "      <td>170286.632</td>\n",
       "      <td>546</td>\n",
       "      <td>311.880278</td>\n",
       "      <td>778.987338</td>\n",
       "      <td>546</td>\n",
       "      <td>1.426717</td>\n",
       "      <td>5.293691e+05</td>\n",
       "      <td>546</td>\n",
       "      <td>969.540470</td>\n",
       "    </tr>\n",
       "    <tr>\n",
       "      <th>A</th>\n",
       "      <td>1564</td>\n",
       "      <td>547</td>\n",
       "      <td>2.859232</td>\n",
       "      <td>3089417.68</td>\n",
       "      <td>547</td>\n",
       "      <td>5647.929945</td>\n",
       "      <td>1.169123e+06</td>\n",
       "      <td>547</td>\n",
       "      <td>2137.336455</td>\n",
       "      <td>0.715462</td>\n",
       "      <td>...</td>\n",
       "      <td>0.001308</td>\n",
       "      <td>308941.768</td>\n",
       "      <td>547</td>\n",
       "      <td>564.792995</td>\n",
       "      <td>1413.274328</td>\n",
       "      <td>547</td>\n",
       "      <td>2.583683</td>\n",
       "      <td>1.851696e+06</td>\n",
       "      <td>547</td>\n",
       "      <td>3385.184838</td>\n",
       "    </tr>\n",
       "  </tbody>\n",
       "</table>\n",
       "<p>4 rows × 21 columns</p>\n",
       "</div>"
      ],
      "text/plain": [
       "        total_transactions                 total_sales_amount        \\\n",
       "                       sum count      mean                sum count   \n",
       "segment                                                               \n",
       "D                      624   547  1.140768          372034.01   547   \n",
       "C                      765   546  1.401099          978890.74   546   \n",
       "B                     1047   546  1.917582         1702866.32   546   \n",
       "A                     1564   547  2.859232         3089417.68   547   \n",
       "\n",
       "                     average_order_value                     \\\n",
       "                mean                 sum count         mean   \n",
       "segment                                                       \n",
       "D         680.135302        3.410161e+05   547   623.429741   \n",
       "C        1792.840183        7.943456e+05   546  1454.845449   \n",
       "B        3118.802784        1.038962e+06   546  1902.861523   \n",
       "A        5647.929945        1.169123e+06   547  2137.336455   \n",
       "\n",
       "        purchase_frequency  ...           profit_margin                    \\\n",
       "                       sum  ...      mean           sum count        mean   \n",
       "segment                     ...                                             \n",
       "D                 0.285453  ...  0.000522     37203.401   547   68.013530   \n",
       "C                 0.349954  ...  0.000641     97889.074   546  179.284018   \n",
       "B                 0.478957  ...  0.000877    170286.632   546  311.880278   \n",
       "A                 0.715462  ...  0.001308    308941.768   547  564.792995   \n",
       "\n",
       "        customer_value                           clv                     \n",
       "                   sum count      mean           sum count         mean  \n",
       "segment                                                                  \n",
       "D           170.189392   547  0.311132  3.142849e+04   547    57.456097  \n",
       "C           447.799973   546  0.820146  1.767417e+05   546   323.702829  \n",
       "B           778.987338   546  1.426717  5.293691e+05   546   969.540470  \n",
       "A          1413.274328   547  2.583683  1.851696e+06   547  3385.184838  \n",
       "\n",
       "[4 rows x 21 columns]"
      ]
     },
     "execution_count": 52,
     "metadata": {},
     "output_type": "execute_result"
    }
   ],
   "source": [
    "cltv_model.display_segments_summary(customer_summary_pr=cltv_tb)"
   ]
  },
  {
   "cell_type": "markdown",
   "metadata": {
    "slideshow": {
     "slide_type": "subslide"
    }
   },
   "source": [
    "### **CLV Prediction with BG-NBD and Gamma-Gamma**\n",
    "\n",
    "***CLTV Prediction: BG/NBD Gamma gamma submodel***\n",
    "\n",
    "Hereby, performing CLTV prediction with BG/NBD and Gamma-Gamma.\n",
    "\n",
    "#### Expected Number of Transactions with BG/NBD.\n",
    "\n",
    "BG/NBD is used as a standalone sales prediction model, that is; it predicts the expected number of purchases per customer.\n",
    "\n",
    "**The information we need to use in this model and learn from the customer is:**\n",
    "\n",
    "* **frequency:** Number of repeated purchases by the customer (more than 1) (frequency)\n",
    "\n",
    "* **recency:** Time between a customer's first and last purchase\n",
    "\n",
    "* **T:** Time since the customer's first purchase (customer's age)"
   ]
  },
  {
   "cell_type": "markdown",
   "metadata": {
    "slideshow": {
     "slide_type": "subslide"
    }
   },
   "source": [
    "#### Calculate CLTV prediction data"
   ]
  },
  {
   "cell_type": "code",
   "execution_count": 53,
   "metadata": {
    "slideshow": {
     "slide_type": "subslide"
    }
   },
   "outputs": [
    {
     "data": {
      "text/html": [
       "<div>\n",
       "<style scoped>\n",
       "    .dataframe tbody tr th:only-of-type {\n",
       "        vertical-align: middle;\n",
       "    }\n",
       "\n",
       "    .dataframe tbody tr th {\n",
       "        vertical-align: top;\n",
       "    }\n",
       "\n",
       "    .dataframe thead th {\n",
       "        text-align: right;\n",
       "    }\n",
       "</style>\n",
       "<table border=\"1\" class=\"dataframe\">\n",
       "  <thead>\n",
       "    <tr style=\"text-align: right;\">\n",
       "      <th></th>\n",
       "      <th>recency</th>\n",
       "      <th>T</th>\n",
       "      <th>frequency</th>\n",
       "      <th>monetary</th>\n",
       "    </tr>\n",
       "    <tr>\n",
       "      <th>customer_id</th>\n",
       "      <th></th>\n",
       "      <th></th>\n",
       "      <th></th>\n",
       "      <th></th>\n",
       "    </tr>\n",
       "  </thead>\n",
       "  <tbody>\n",
       "    <tr>\n",
       "      <th>0</th>\n",
       "      <td>3340</td>\n",
       "      <td>3796</td>\n",
       "      <td>2</td>\n",
       "      <td>1354.6750</td>\n",
       "    </tr>\n",
       "    <tr>\n",
       "      <th>1</th>\n",
       "      <td>0</td>\n",
       "      <td>8654</td>\n",
       "      <td>1</td>\n",
       "      <td>3405.4200</td>\n",
       "    </tr>\n",
       "    <tr>\n",
       "      <th>2</th>\n",
       "      <td>0</td>\n",
       "      <td>8594</td>\n",
       "      <td>1</td>\n",
       "      <td>1679.4900</td>\n",
       "    </tr>\n",
       "    <tr>\n",
       "      <th>3</th>\n",
       "      <td>1689</td>\n",
       "      <td>5891</td>\n",
       "      <td>2</td>\n",
       "      <td>1713.6800</td>\n",
       "    </tr>\n",
       "    <tr>\n",
       "      <th>4</th>\n",
       "      <td>3941</td>\n",
       "      <td>6511</td>\n",
       "      <td>4</td>\n",
       "      <td>2510.0375</td>\n",
       "    </tr>\n",
       "  </tbody>\n",
       "</table>\n",
       "</div>"
      ],
      "text/plain": [
       "             recency     T  frequency   monetary\n",
       "customer_id                                     \n",
       "0               3340  3796          2  1354.6750\n",
       "1                  0  8654          1  3405.4200\n",
       "2                  0  8594          1  1679.4900\n",
       "3               1689  5891          2  1713.6800\n",
       "4               3941  6511          4  2510.0375"
      ]
     },
     "execution_count": 53,
     "metadata": {},
     "output_type": "execute_result"
    }
   ],
   "source": [
    "cltv_model.calculate_cltv_pr().head()"
   ]
  },
  {
   "cell_type": "markdown",
   "metadata": {
    "slideshow": {
     "slide_type": "subslide"
    }
   },
   "source": [
    "#### Fit the BG-NBD model"
   ]
  },
  {
   "cell_type": "code",
   "execution_count": 54,
   "metadata": {
    "slideshow": {
     "slide_type": "subslide"
    }
   },
   "outputs": [],
   "source": [
    "cltv_model.fit_bgf_model()"
   ]
  },
  {
   "cell_type": "markdown",
   "metadata": {
    "slideshow": {
     "slide_type": "subslide"
    }
   },
   "source": [
    "#### Plot frequency-recency matrix"
   ]
  },
  {
   "cell_type": "code",
   "execution_count": 55,
   "metadata": {
    "slideshow": {
     "slide_type": "subslide"
    }
   },
   "outputs": [
    {
     "data": {
      "image/png": "[encoded data removed]",
      "text/plain": [
       "<Figure size 640x480 with 2 Axes>"
      ]
     },
     "metadata": {},
     "output_type": "display_data"
    }
   ],
   "source": [
    "cltv_model.plot_frequency_recency_matrix()"
   ]
  },
  {
   "cell_type": "markdown",
   "metadata": {
    "slideshow": {
     "slide_type": "subslide"
    }
   },
   "source": [
    "Here we can see that our best customers who bought from us at least 2 times and their lastest purchase was when they were around 550 weeks old. The oldest customers which are mainly in the top right corner bought quickly and \"disappeard\". "
   ]
  },
  {
   "cell_type": "markdown",
   "metadata": {
    "slideshow": {
     "slide_type": "subslide"
    }
   },
   "source": [
    "#### Plot probability alive matrix"
   ]
  },
  {
   "cell_type": "code",
   "execution_count": 56,
   "metadata": {
    "slideshow": {
     "slide_type": "subslide"
    }
   },
   "outputs": [
    {
     "data": {
      "image/png": "[encoded data removed]",
      "text/plain": [
       "<Figure size 640x480 with 2 Axes>"
      ]
     },
     "metadata": {},
     "output_type": "display_data"
    }
   ],
   "source": [
    "cltv_model.plot_probability_alive_matrix()"
   ]
  },
  {
   "cell_type": "markdown",
   "metadata": {
    "slideshow": {
     "slide_type": "subslide"
    }
   },
   "source": [
    "So we can see that the customers who have \"disappeared\" have less probability to be alive."
   ]
  },
  {
   "cell_type": "markdown",
   "metadata": {
    "slideshow": {
     "slide_type": "subslide"
    }
   },
   "source": [
    "#### Ranking customers from best to worst"
   ]
  },
  {
   "cell_type": "markdown",
   "metadata": {
    "slideshow": {
     "slide_type": "subslide"
    }
   },
   "source": [
    "\n",
    "Let's return to our customers and rank them from \"highest expected purchases in the next period\" to lowest. Models expose a method that will predict a customer's expected purchases in the next period using their history."
   ]
  },
  {
   "cell_type": "markdown",
   "metadata": {
    "slideshow": {
     "slide_type": "subslide"
    }
   },
   "source": [
    "#### Predict purchases"
   ]
  },
  {
   "cell_type": "code",
   "execution_count": 57,
   "metadata": {
    "slideshow": {
     "slide_type": "subslide"
    }
   },
   "outputs": [
    {
     "data": {
      "text/html": [
       "<div>\n",
       "<style scoped>\n",
       "    .dataframe tbody tr th:only-of-type {\n",
       "        vertical-align: middle;\n",
       "    }\n",
       "\n",
       "    .dataframe tbody tr th {\n",
       "        vertical-align: top;\n",
       "    }\n",
       "\n",
       "    .dataframe thead th {\n",
       "        text-align: right;\n",
       "    }\n",
       "</style>\n",
       "<table border=\"1\" class=\"dataframe\">\n",
       "  <thead>\n",
       "    <tr style=\"text-align: right;\">\n",
       "      <th></th>\n",
       "      <th>recency</th>\n",
       "      <th>T</th>\n",
       "      <th>frequency</th>\n",
       "      <th>monetary</th>\n",
       "      <th>predicted_purchases</th>\n",
       "    </tr>\n",
       "    <tr>\n",
       "      <th>customer_id</th>\n",
       "      <th></th>\n",
       "      <th></th>\n",
       "      <th></th>\n",
       "      <th></th>\n",
       "      <th></th>\n",
       "    </tr>\n",
       "  </thead>\n",
       "  <tbody>\n",
       "    <tr>\n",
       "      <th>891</th>\n",
       "      <td>241.285714</td>\n",
       "      <td>281.571429</td>\n",
       "      <td>3</td>\n",
       "      <td>2034.890000</td>\n",
       "      <td>0.004426</td>\n",
       "    </tr>\n",
       "    <tr>\n",
       "      <th>1646</th>\n",
       "      <td>611.285714</td>\n",
       "      <td>660.714286</td>\n",
       "      <td>5</td>\n",
       "      <td>2138.866000</td>\n",
       "      <td>0.004562</td>\n",
       "    </tr>\n",
       "    <tr>\n",
       "      <th>1366</th>\n",
       "      <td>678.857143</td>\n",
       "      <td>830.000000</td>\n",
       "      <td>7</td>\n",
       "      <td>1866.648571</td>\n",
       "      <td>0.004574</td>\n",
       "    </tr>\n",
       "    <tr>\n",
       "      <th>2591</th>\n",
       "      <td>440.142857</td>\n",
       "      <td>457.000000</td>\n",
       "      <td>4</td>\n",
       "      <td>1982.552500</td>\n",
       "      <td>0.004651</td>\n",
       "    </tr>\n",
       "    <tr>\n",
       "      <th>66</th>\n",
       "      <td>125.142857</td>\n",
       "      <td>154.714286</td>\n",
       "      <td>3</td>\n",
       "      <td>1537.083333</td>\n",
       "      <td>0.004846</td>\n",
       "    </tr>\n",
       "  </tbody>\n",
       "</table>\n",
       "</div>"
      ],
      "text/plain": [
       "                recency           T  frequency     monetary  \\\n",
       "customer_id                                                   \n",
       "891          241.285714  281.571429          3  2034.890000   \n",
       "1646         611.285714  660.714286          5  2138.866000   \n",
       "1366         678.857143  830.000000          7  1866.648571   \n",
       "2591         440.142857  457.000000          4  1982.552500   \n",
       "66           125.142857  154.714286          3  1537.083333   \n",
       "\n",
       "             predicted_purchases  \n",
       "customer_id                       \n",
       "891                     0.004426  \n",
       "1646                    0.004562  \n",
       "1366                    0.004574  \n",
       "2591                    0.004651  \n",
       "66                      0.004846  "
      ]
     },
     "execution_count": 57,
     "metadata": {},
     "output_type": "execute_result"
    }
   ],
   "source": [
    "cltv_model.predict_purchases().tail()"
   ]
  },
  {
   "cell_type": "markdown",
   "metadata": {
    "slideshow": {
     "slide_type": "subslide"
    }
   },
   "source": [
    "#### Plot period transactions"
   ]
  },
  {
   "cell_type": "code",
   "execution_count": 58,
   "metadata": {
    "slideshow": {
     "slide_type": "subslide"
    }
   },
   "outputs": [
    {
     "data": {
      "image/png": "[encoded data removed]",
      "text/plain": [
       "<Figure size 640x480 with 1 Axes>"
      ]
     },
     "metadata": {},
     "output_type": "display_data"
    }
   ],
   "source": [
    "cltv_model.plot_period_transactions()"
   ]
  },
  {
   "cell_type": "markdown",
   "metadata": {
    "slideshow": {
     "slide_type": "subslide"
    }
   },
   "source": [
    "## Estimating Customers' Lifetime Value"
   ]
  },
  {
   "cell_type": "markdown",
   "metadata": {
    "slideshow": {
     "slide_type": "subslide"
    }
   },
   "source": [
    "We can train our Gamma-Gamma submodel and predict the conditional, expected average lifetime value of our customers."
   ]
  },
  {
   "cell_type": "markdown",
   "metadata": {
    "slideshow": {
     "slide_type": "subslide"
    }
   },
   "source": [
    "#### Fit the Gamma-Gamma model"
   ]
  },
  {
   "cell_type": "code",
   "execution_count": 59,
   "metadata": {
    "slideshow": {
     "slide_type": "subslide"
    }
   },
   "outputs": [],
   "source": [
    "cltv_model.fit_ggf_model()"
   ]
  },
  {
   "cell_type": "markdown",
   "metadata": {
    "slideshow": {
     "slide_type": "subslide"
    }
   },
   "source": [
    "#### Calculate expected average profit"
   ]
  },
  {
   "cell_type": "code",
   "execution_count": 60,
   "metadata": {
    "slideshow": {
     "slide_type": "subslide"
    }
   },
   "outputs": [
    {
     "data": {
      "text/html": [
       "<div>\n",
       "<style scoped>\n",
       "    .dataframe tbody tr th:only-of-type {\n",
       "        vertical-align: middle;\n",
       "    }\n",
       "\n",
       "    .dataframe tbody tr th {\n",
       "        vertical-align: top;\n",
       "    }\n",
       "\n",
       "    .dataframe thead th {\n",
       "        text-align: right;\n",
       "    }\n",
       "</style>\n",
       "<table border=\"1\" class=\"dataframe\">\n",
       "  <thead>\n",
       "    <tr style=\"text-align: right;\">\n",
       "      <th></th>\n",
       "      <th>recency</th>\n",
       "      <th>T</th>\n",
       "      <th>frequency</th>\n",
       "      <th>monetary</th>\n",
       "      <th>predicted_purchases</th>\n",
       "      <th>expected_average_profit</th>\n",
       "    </tr>\n",
       "    <tr>\n",
       "      <th>customer_id</th>\n",
       "      <th></th>\n",
       "      <th></th>\n",
       "      <th></th>\n",
       "      <th></th>\n",
       "      <th></th>\n",
       "      <th></th>\n",
       "    </tr>\n",
       "  </thead>\n",
       "  <tbody>\n",
       "    <tr>\n",
       "      <th>1278</th>\n",
       "      <td>457.142857</td>\n",
       "      <td>598.714286</td>\n",
       "      <td>2</td>\n",
       "      <td>3928.580</td>\n",
       "      <td>0.002893</td>\n",
       "      <td>4461.315176</td>\n",
       "    </tr>\n",
       "    <tr>\n",
       "      <th>2749</th>\n",
       "      <td>257.714286</td>\n",
       "      <td>375.000000</td>\n",
       "      <td>2</td>\n",
       "      <td>3848.400</td>\n",
       "      <td>0.003309</td>\n",
       "      <td>4370.299541</td>\n",
       "    </tr>\n",
       "    <tr>\n",
       "      <th>2666</th>\n",
       "      <td>103.857143</td>\n",
       "      <td>850.285714</td>\n",
       "      <td>2</td>\n",
       "      <td>3629.345</td>\n",
       "      <td>0.000535</td>\n",
       "      <td>4121.641148</td>\n",
       "    </tr>\n",
       "    <tr>\n",
       "      <th>2108</th>\n",
       "      <td>375.000000</td>\n",
       "      <td>911.571429</td>\n",
       "      <td>2</td>\n",
       "      <td>3588.965</td>\n",
       "      <td>0.001227</td>\n",
       "      <td>4075.804140</td>\n",
       "    </tr>\n",
       "    <tr>\n",
       "      <th>2650</th>\n",
       "      <td>47.428571</td>\n",
       "      <td>477.714286</td>\n",
       "      <td>2</td>\n",
       "      <td>3572.110</td>\n",
       "      <td>0.001535</td>\n",
       "      <td>4056.671332</td>\n",
       "    </tr>\n",
       "  </tbody>\n",
       "</table>\n",
       "</div>"
      ],
      "text/plain": [
       "                recency           T  frequency  monetary  predicted_purchases  \\\n",
       "customer_id                                                                     \n",
       "1278         457.142857  598.714286          2  3928.580             0.002893   \n",
       "2749         257.714286  375.000000          2  3848.400             0.003309   \n",
       "2666         103.857143  850.285714          2  3629.345             0.000535   \n",
       "2108         375.000000  911.571429          2  3588.965             0.001227   \n",
       "2650          47.428571  477.714286          2  3572.110             0.001535   \n",
       "\n",
       "             expected_average_profit  \n",
       "customer_id                           \n",
       "1278                     4461.315176  \n",
       "2749                     4370.299541  \n",
       "2666                     4121.641148  \n",
       "2108                     4075.804140  \n",
       "2650                     4056.671332  "
      ]
     },
     "execution_count": 60,
     "metadata": {},
     "output_type": "execute_result"
    }
   ],
   "source": [
    "cltv_model.calculate_expected_average_profit().head()"
   ]
  },
  {
   "cell_type": "markdown",
   "metadata": {
    "slideshow": {
     "slide_type": "subslide"
    }
   },
   "source": [
    "#### Calculate CLTV prediction for 3 months"
   ]
  },
  {
   "cell_type": "code",
   "execution_count": 61,
   "metadata": {
    "slideshow": {
     "slide_type": "subslide"
    }
   },
   "outputs": [
    {
     "data": {
      "text/html": [
       "<div>\n",
       "<style scoped>\n",
       "    .dataframe tbody tr th:only-of-type {\n",
       "        vertical-align: middle;\n",
       "    }\n",
       "\n",
       "    .dataframe tbody tr th {\n",
       "        vertical-align: top;\n",
       "    }\n",
       "\n",
       "    .dataframe thead th {\n",
       "        text-align: right;\n",
       "    }\n",
       "</style>\n",
       "<table border=\"1\" class=\"dataframe\">\n",
       "  <thead>\n",
       "    <tr style=\"text-align: right;\">\n",
       "      <th></th>\n",
       "      <th>customer_id</th>\n",
       "      <th>clv</th>\n",
       "    </tr>\n",
       "  </thead>\n",
       "  <tbody>\n",
       "    <tr>\n",
       "      <th>0</th>\n",
       "      <td>0</td>\n",
       "      <td>64.188974</td>\n",
       "    </tr>\n",
       "    <tr>\n",
       "      <th>1</th>\n",
       "      <td>3</td>\n",
       "      <td>24.387114</td>\n",
       "    </tr>\n",
       "    <tr>\n",
       "      <th>2</th>\n",
       "      <td>4</td>\n",
       "      <td>78.009128</td>\n",
       "    </tr>\n",
       "    <tr>\n",
       "      <th>3</th>\n",
       "      <td>6</td>\n",
       "      <td>34.329718</td>\n",
       "    </tr>\n",
       "    <tr>\n",
       "      <th>4</th>\n",
       "      <td>8</td>\n",
       "      <td>28.160002</td>\n",
       "    </tr>\n",
       "  </tbody>\n",
       "</table>\n",
       "</div>"
      ],
      "text/plain": [
       "   customer_id        clv\n",
       "0            0  64.188974\n",
       "1            3  24.387114\n",
       "2            4  78.009128\n",
       "3            6  34.329718\n",
       "4            8  28.160002"
      ]
     },
     "execution_count": 61,
     "metadata": {},
     "output_type": "execute_result"
    }
   ],
   "source": [
    "cltv_model.calculate_cltv_prediction(time_period =3, discount_rate=0.01/4).head()"
   ]
  },
  {
   "cell_type": "markdown",
   "metadata": {
    "slideshow": {
     "slide_type": "subslide"
    }
   },
   "source": [
    "#### Calculate CLTV prediction for 12 months"
   ]
  },
  {
   "cell_type": "code",
   "execution_count": 62,
   "metadata": {
    "slideshow": {
     "slide_type": "subslide"
    }
   },
   "outputs": [
    {
     "data": {
      "text/html": [
       "<div>\n",
       "<style scoped>\n",
       "    .dataframe tbody tr th:only-of-type {\n",
       "        vertical-align: middle;\n",
       "    }\n",
       "\n",
       "    .dataframe tbody tr th {\n",
       "        vertical-align: top;\n",
       "    }\n",
       "\n",
       "    .dataframe thead th {\n",
       "        text-align: right;\n",
       "    }\n",
       "</style>\n",
       "<table border=\"1\" class=\"dataframe\">\n",
       "  <thead>\n",
       "    <tr style=\"text-align: right;\">\n",
       "      <th></th>\n",
       "      <th>customer_id</th>\n",
       "      <th>clv</th>\n",
       "    </tr>\n",
       "  </thead>\n",
       "  <tbody>\n",
       "    <tr>\n",
       "      <th>0</th>\n",
       "      <td>0</td>\n",
       "      <td>238.722615</td>\n",
       "    </tr>\n",
       "    <tr>\n",
       "      <th>1</th>\n",
       "      <td>3</td>\n",
       "      <td>90.866954</td>\n",
       "    </tr>\n",
       "    <tr>\n",
       "      <th>2</th>\n",
       "      <td>4</td>\n",
       "      <td>290.853756</td>\n",
       "    </tr>\n",
       "    <tr>\n",
       "      <th>3</th>\n",
       "      <td>6</td>\n",
       "      <td>128.141673</td>\n",
       "    </tr>\n",
       "    <tr>\n",
       "      <th>4</th>\n",
       "      <td>8</td>\n",
       "      <td>104.839967</td>\n",
       "    </tr>\n",
       "  </tbody>\n",
       "</table>\n",
       "</div>"
      ],
      "text/plain": [
       "   customer_id         clv\n",
       "0            0  238.722615\n",
       "1            3   90.866954\n",
       "2            4  290.853756\n",
       "3            6  128.141673\n",
       "4            8  104.839967"
      ]
     },
     "execution_count": 62,
     "metadata": {},
     "output_type": "execute_result"
    }
   ],
   "source": [
    "cltv_model.calculate_cltv_prediction().head()"
   ]
  },
  {
   "cell_type": "markdown",
   "metadata": {
    "slideshow": {
     "slide_type": "subslide"
    }
   },
   "source": [
    "#### Merge CLTV predictions with other variables"
   ]
  },
  {
   "cell_type": "code",
   "execution_count": 63,
   "metadata": {
    "slideshow": {
     "slide_type": "subslide"
    }
   },
   "outputs": [
    {
     "data": {
      "text/html": [
       "<div>\n",
       "<style scoped>\n",
       "    .dataframe tbody tr th:only-of-type {\n",
       "        vertical-align: middle;\n",
       "    }\n",
       "\n",
       "    .dataframe tbody tr th {\n",
       "        vertical-align: top;\n",
       "    }\n",
       "\n",
       "    .dataframe thead th {\n",
       "        text-align: right;\n",
       "    }\n",
       "</style>\n",
       "<table border=\"1\" class=\"dataframe\">\n",
       "  <thead>\n",
       "    <tr style=\"text-align: right;\">\n",
       "      <th></th>\n",
       "      <th>customer_id</th>\n",
       "      <th>recency</th>\n",
       "      <th>T</th>\n",
       "      <th>frequency</th>\n",
       "      <th>monetary</th>\n",
       "      <th>predicted_purchases</th>\n",
       "      <th>expected_average_profit</th>\n",
       "      <th>clv</th>\n",
       "    </tr>\n",
       "  </thead>\n",
       "  <tbody>\n",
       "    <tr>\n",
       "      <th>0</th>\n",
       "      <td>0</td>\n",
       "      <td>477.142857</td>\n",
       "      <td>542.285714</td>\n",
       "      <td>2</td>\n",
       "      <td>1354.6750</td>\n",
       "      <td>0.003229</td>\n",
       "      <td>1539.569127</td>\n",
       "      <td>238.722615</td>\n",
       "    </tr>\n",
       "    <tr>\n",
       "      <th>1</th>\n",
       "      <td>3</td>\n",
       "      <td>241.285714</td>\n",
       "      <td>841.571429</td>\n",
       "      <td>2</td>\n",
       "      <td>1713.6800</td>\n",
       "      <td>0.000969</td>\n",
       "      <td>1947.090555</td>\n",
       "      <td>90.866954</td>\n",
       "    </tr>\n",
       "    <tr>\n",
       "      <th>2</th>\n",
       "      <td>4</td>\n",
       "      <td>563.000000</td>\n",
       "      <td>930.142857</td>\n",
       "      <td>4</td>\n",
       "      <td>2510.0375</td>\n",
       "      <td>0.002261</td>\n",
       "      <td>2669.760600</td>\n",
       "      <td>290.853756</td>\n",
       "    </tr>\n",
       "    <tr>\n",
       "      <th>3</th>\n",
       "      <td>6</td>\n",
       "      <td>639.285714</td>\n",
       "      <td>1230.428571</td>\n",
       "      <td>2</td>\n",
       "      <td>2058.6150</td>\n",
       "      <td>0.001135</td>\n",
       "      <td>2338.640543</td>\n",
       "      <td>128.141673</td>\n",
       "    </tr>\n",
       "    <tr>\n",
       "      <th>4</th>\n",
       "      <td>8</td>\n",
       "      <td>395.571429</td>\n",
       "      <td>701.285714</td>\n",
       "      <td>2</td>\n",
       "      <td>888.0300</td>\n",
       "      <td>0.002159</td>\n",
       "      <td>1009.861082</td>\n",
       "      <td>104.839967</td>\n",
       "    </tr>\n",
       "  </tbody>\n",
       "</table>\n",
       "</div>"
      ],
      "text/plain": [
       "   customer_id     recency            T  frequency   monetary  \\\n",
       "0            0  477.142857   542.285714          2  1354.6750   \n",
       "1            3  241.285714   841.571429          2  1713.6800   \n",
       "2            4  563.000000   930.142857          4  2510.0375   \n",
       "3            6  639.285714  1230.428571          2  2058.6150   \n",
       "4            8  395.571429   701.285714          2   888.0300   \n",
       "\n",
       "   predicted_purchases  expected_average_profit         clv  \n",
       "0             0.003229              1539.569127  238.722615  \n",
       "1             0.000969              1947.090555   90.866954  \n",
       "2             0.002261              2669.760600  290.853756  \n",
       "3             0.001135              2338.640543  128.141673  \n",
       "4             0.002159              1009.861082  104.839967  "
      ]
     },
     "execution_count": 63,
     "metadata": {},
     "output_type": "execute_result"
    }
   ],
   "source": [
    "cltv_model.merge_cltv_predictions().head()"
   ]
  },
  {
   "cell_type": "markdown",
   "metadata": {
    "slideshow": {
     "slide_type": "subslide"
    }
   },
   "source": [
    "#### Create segments based on CLTV"
   ]
  },
  {
   "cell_type": "code",
   "execution_count": 64,
   "metadata": {
    "slideshow": {
     "slide_type": "subslide"
    }
   },
   "outputs": [
    {
     "data": {
      "text/html": [
       "<div>\n",
       "<style scoped>\n",
       "    .dataframe tbody tr th:only-of-type {\n",
       "        vertical-align: middle;\n",
       "    }\n",
       "\n",
       "    .dataframe tbody tr th {\n",
       "        vertical-align: top;\n",
       "    }\n",
       "\n",
       "    .dataframe thead th {\n",
       "        text-align: right;\n",
       "    }\n",
       "</style>\n",
       "<table border=\"1\" class=\"dataframe\">\n",
       "  <thead>\n",
       "    <tr style=\"text-align: right;\">\n",
       "      <th></th>\n",
       "      <th>customer_id</th>\n",
       "      <th>recency</th>\n",
       "      <th>T</th>\n",
       "      <th>frequency</th>\n",
       "      <th>monetary</th>\n",
       "      <th>predicted_purchases</th>\n",
       "      <th>expected_average_profit</th>\n",
       "      <th>clv</th>\n",
       "      <th>segment</th>\n",
       "    </tr>\n",
       "  </thead>\n",
       "  <tbody>\n",
       "    <tr>\n",
       "      <th>1060</th>\n",
       "      <td>2749</td>\n",
       "      <td>257.714286</td>\n",
       "      <td>375.000000</td>\n",
       "      <td>2</td>\n",
       "      <td>3848.400</td>\n",
       "      <td>0.003309</td>\n",
       "      <td>4370.299541</td>\n",
       "      <td>693.354346</td>\n",
       "      <td>A</td>\n",
       "    </tr>\n",
       "    <tr>\n",
       "      <th>153</th>\n",
       "      <td>338</td>\n",
       "      <td>276.428571</td>\n",
       "      <td>292.714286</td>\n",
       "      <td>2</td>\n",
       "      <td>2961.825</td>\n",
       "      <td>0.003881</td>\n",
       "      <td>3363.911581</td>\n",
       "      <td>625.303408</td>\n",
       "      <td>A</td>\n",
       "    </tr>\n",
       "    <tr>\n",
       "      <th>654</th>\n",
       "      <td>1631</td>\n",
       "      <td>364.285714</td>\n",
       "      <td>385.285714</td>\n",
       "      <td>2</td>\n",
       "      <td>3112.985</td>\n",
       "      <td>0.003659</td>\n",
       "      <td>3535.499550</td>\n",
       "      <td>620.250362</td>\n",
       "      <td>A</td>\n",
       "    </tr>\n",
       "    <tr>\n",
       "      <th>516</th>\n",
       "      <td>1278</td>\n",
       "      <td>457.142857</td>\n",
       "      <td>598.714286</td>\n",
       "      <td>2</td>\n",
       "      <td>3928.580</td>\n",
       "      <td>0.002893</td>\n",
       "      <td>4461.315176</td>\n",
       "      <td>620.238336</td>\n",
       "      <td>A</td>\n",
       "    </tr>\n",
       "    <tr>\n",
       "      <th>967</th>\n",
       "      <td>2518</td>\n",
       "      <td>261.285714</td>\n",
       "      <td>283.142857</td>\n",
       "      <td>2</td>\n",
       "      <td>2825.805</td>\n",
       "      <td>0.003884</td>\n",
       "      <td>3209.509651</td>\n",
       "      <td>596.892855</td>\n",
       "      <td>A</td>\n",
       "    </tr>\n",
       "  </tbody>\n",
       "</table>\n",
       "</div>"
      ],
      "text/plain": [
       "      customer_id     recency           T  frequency  monetary  \\\n",
       "1060         2749  257.714286  375.000000          2  3848.400   \n",
       "153           338  276.428571  292.714286          2  2961.825   \n",
       "654          1631  364.285714  385.285714          2  3112.985   \n",
       "516          1278  457.142857  598.714286          2  3928.580   \n",
       "967          2518  261.285714  283.142857          2  2825.805   \n",
       "\n",
       "      predicted_purchases  expected_average_profit         clv segment  \n",
       "1060             0.003309              4370.299541  693.354346       A  \n",
       "153              0.003881              3363.911581  625.303408       A  \n",
       "654              0.003659              3535.499550  620.250362       A  \n",
       "516              0.002893              4461.315176  620.238336       A  \n",
       "967              0.003884              3209.509651  596.892855       A  "
      ]
     },
     "execution_count": 64,
     "metadata": {},
     "output_type": "execute_result"
    }
   ],
   "source": [
    "cltv_model.create_segments().head()"
   ]
  },
  {
   "cell_type": "markdown",
   "metadata": {
    "slideshow": {
     "slide_type": "subslide"
    }
   },
   "source": [
    "#### Display segments summary"
   ]
  },
  {
   "cell_type": "code",
   "execution_count": 65,
   "metadata": {
    "slideshow": {
     "slide_type": "subslide"
    }
   },
   "outputs": [
    {
     "data": {
      "text/html": [
       "<div>\n",
       "<style scoped>\n",
       "    .dataframe tbody tr th:only-of-type {\n",
       "        vertical-align: middle;\n",
       "    }\n",
       "\n",
       "    .dataframe tbody tr th {\n",
       "        vertical-align: top;\n",
       "    }\n",
       "\n",
       "    .dataframe thead tr th {\n",
       "        text-align: left;\n",
       "    }\n",
       "\n",
       "    .dataframe thead tr:last-of-type th {\n",
       "        text-align: right;\n",
       "    }\n",
       "</style>\n",
       "<table border=\"1\" class=\"dataframe\">\n",
       "  <thead>\n",
       "    <tr>\n",
       "      <th></th>\n",
       "      <th colspan=\"3\" halign=\"left\">customer_id</th>\n",
       "      <th colspan=\"3\" halign=\"left\">recency</th>\n",
       "      <th colspan=\"3\" halign=\"left\">T</th>\n",
       "      <th>frequency</th>\n",
       "      <th>...</th>\n",
       "      <th>monetary</th>\n",
       "      <th colspan=\"3\" halign=\"left\">predicted_purchases</th>\n",
       "      <th colspan=\"3\" halign=\"left\">expected_average_profit</th>\n",
       "      <th colspan=\"3\" halign=\"left\">clv</th>\n",
       "    </tr>\n",
       "    <tr>\n",
       "      <th></th>\n",
       "      <th>sum</th>\n",
       "      <th>count</th>\n",
       "      <th>mean</th>\n",
       "      <th>sum</th>\n",
       "      <th>count</th>\n",
       "      <th>mean</th>\n",
       "      <th>sum</th>\n",
       "      <th>count</th>\n",
       "      <th>mean</th>\n",
       "      <th>sum</th>\n",
       "      <th>...</th>\n",
       "      <th>mean</th>\n",
       "      <th>sum</th>\n",
       "      <th>count</th>\n",
       "      <th>mean</th>\n",
       "      <th>sum</th>\n",
       "      <th>count</th>\n",
       "      <th>mean</th>\n",
       "      <th>sum</th>\n",
       "      <th>count</th>\n",
       "      <th>mean</th>\n",
       "    </tr>\n",
       "    <tr>\n",
       "      <th>segment</th>\n",
       "      <th></th>\n",
       "      <th></th>\n",
       "      <th></th>\n",
       "      <th></th>\n",
       "      <th></th>\n",
       "      <th></th>\n",
       "      <th></th>\n",
       "      <th></th>\n",
       "      <th></th>\n",
       "      <th></th>\n",
       "      <th></th>\n",
       "      <th></th>\n",
       "      <th></th>\n",
       "      <th></th>\n",
       "      <th></th>\n",
       "      <th></th>\n",
       "      <th></th>\n",
       "      <th></th>\n",
       "      <th></th>\n",
       "      <th></th>\n",
       "      <th></th>\n",
       "    </tr>\n",
       "  </thead>\n",
       "  <tbody>\n",
       "    <tr>\n",
       "      <th>D</th>\n",
       "      <td>413821</td>\n",
       "      <td>291</td>\n",
       "      <td>1422.065292</td>\n",
       "      <td>86240.285714</td>\n",
       "      <td>291</td>\n",
       "      <td>296.358370</td>\n",
       "      <td>287330.857143</td>\n",
       "      <td>291</td>\n",
       "      <td>987.391262</td>\n",
       "      <td>675</td>\n",
       "      <td>...</td>\n",
       "      <td>1184.658701</td>\n",
       "      <td>0.267431</td>\n",
       "      <td>291</td>\n",
       "      <td>0.000919</td>\n",
       "      <td>387088.650619</td>\n",
       "      <td>291</td>\n",
       "      <td>1330.201549</td>\n",
       "      <td>12409.342672</td>\n",
       "      <td>291</td>\n",
       "      <td>42.643789</td>\n",
       "    </tr>\n",
       "    <tr>\n",
       "      <th>C</th>\n",
       "      <td>423530</td>\n",
       "      <td>290</td>\n",
       "      <td>1460.448276</td>\n",
       "      <td>149100.000000</td>\n",
       "      <td>290</td>\n",
       "      <td>514.137931</td>\n",
       "      <td>265252.571429</td>\n",
       "      <td>290</td>\n",
       "      <td>914.664039</td>\n",
       "      <td>717</td>\n",
       "      <td>...</td>\n",
       "      <td>1327.827156</td>\n",
       "      <td>0.525829</td>\n",
       "      <td>290</td>\n",
       "      <td>0.001813</td>\n",
       "      <td>430472.776050</td>\n",
       "      <td>290</td>\n",
       "      <td>1484.388883</td>\n",
       "      <td>32489.938652</td>\n",
       "      <td>290</td>\n",
       "      <td>112.034271</td>\n",
       "    </tr>\n",
       "    <tr>\n",
       "      <th>B</th>\n",
       "      <td>431699</td>\n",
       "      <td>290</td>\n",
       "      <td>1488.617241</td>\n",
       "      <td>177011.000000</td>\n",
       "      <td>290</td>\n",
       "      <td>610.382759</td>\n",
       "      <td>250523.571429</td>\n",
       "      <td>290</td>\n",
       "      <td>863.874384</td>\n",
       "      <td>764</td>\n",
       "      <td>...</td>\n",
       "      <td>1581.433430</td>\n",
       "      <td>0.708097</td>\n",
       "      <td>290</td>\n",
       "      <td>0.002442</td>\n",
       "      <td>510004.440147</td>\n",
       "      <td>290</td>\n",
       "      <td>1758.636001</td>\n",
       "      <td>55766.196446</td>\n",
       "      <td>290</td>\n",
       "      <td>192.297229</td>\n",
       "    </tr>\n",
       "    <tr>\n",
       "      <th>A</th>\n",
       "      <td>444825</td>\n",
       "      <td>291</td>\n",
       "      <td>1528.608247</td>\n",
       "      <td>186137.857143</td>\n",
       "      <td>291</td>\n",
       "      <td>639.648994</td>\n",
       "      <td>225457.285714</td>\n",
       "      <td>291</td>\n",
       "      <td>774.767305</td>\n",
       "      <td>820</td>\n",
       "      <td>...</td>\n",
       "      <td>2083.573965</td>\n",
       "      <td>0.892963</td>\n",
       "      <td>291</td>\n",
       "      <td>0.003069</td>\n",
       "      <td>670512.421254</td>\n",
       "      <td>291</td>\n",
       "      <td>2304.166396</td>\n",
       "      <td>96202.076554</td>\n",
       "      <td>291</td>\n",
       "      <td>330.591328</td>\n",
       "    </tr>\n",
       "  </tbody>\n",
       "</table>\n",
       "<p>4 rows × 24 columns</p>\n",
       "</div>"
      ],
      "text/plain": [
       "        customer_id                           recency                    \\\n",
       "                sum count         mean            sum count        mean   \n",
       "segment                                                                   \n",
       "D            413821   291  1422.065292   86240.285714   291  296.358370   \n",
       "C            423530   290  1460.448276  149100.000000   290  514.137931   \n",
       "B            431699   290  1488.617241  177011.000000   290  610.382759   \n",
       "A            444825   291  1528.608247  186137.857143   291  639.648994   \n",
       "\n",
       "                     T                   frequency  ...     monetary  \\\n",
       "                   sum count        mean       sum  ...         mean   \n",
       "segment                                             ...                \n",
       "D        287330.857143   291  987.391262       675  ...  1184.658701   \n",
       "C        265252.571429   290  914.664039       717  ...  1327.827156   \n",
       "B        250523.571429   290  863.874384       764  ...  1581.433430   \n",
       "A        225457.285714   291  774.767305       820  ...  2083.573965   \n",
       "\n",
       "        predicted_purchases                 expected_average_profit        \\\n",
       "                        sum count      mean                     sum count   \n",
       "segment                                                                     \n",
       "D                  0.267431   291  0.000919           387088.650619   291   \n",
       "C                  0.525829   290  0.001813           430472.776050   290   \n",
       "B                  0.708097   290  0.002442           510004.440147   290   \n",
       "A                  0.892963   291  0.003069           670512.421254   291   \n",
       "\n",
       "                               clv                    \n",
       "                mean           sum count        mean  \n",
       "segment                                               \n",
       "D        1330.201549  12409.342672   291   42.643789  \n",
       "C        1484.388883  32489.938652   290  112.034271  \n",
       "B        1758.636001  55766.196446   290  192.297229  \n",
       "A        2304.166396  96202.076554   291  330.591328  \n",
       "\n",
       "[4 rows x 24 columns]"
      ]
     },
     "execution_count": 65,
     "metadata": {},
     "output_type": "execute_result"
    }
   ],
   "source": [
    "cltv_model.display_segments_summary()"
   ]
  },
  {
   "cell_type": "markdown",
   "metadata": {
    "slideshow": {
     "slide_type": "slide"
    }
   },
   "source": [
    "## 6. FastAPI for Our SQLite Database\n"
   ]
  },
  {
   "cell_type": "markdown",
   "metadata": {
    "slideshow": {
     "slide_type": "subslide"
    }
   },
   "source": [
    "**Run Script**\n",
    "\n",
    "This script starts the FastAPI application using uvicorn and opens the documentation (swagger) in a web browser.\n",
    "\n",
    "*Note:* Ensure that the uvicorn package is installed before running this script.\n"
   ]
  },
  {
   "cell_type": "markdown",
   "metadata": {
    "slideshow": {
     "slide_type": "subslide"
    }
   },
   "source": [
    "#### Loading Modules and Packages\n"
   ]
  },
  {
   "cell_type": "code",
   "execution_count": 66,
   "metadata": {
    "slideshow": {
     "slide_type": "subslide"
    }
   },
   "outputs": [],
   "source": [
    "import subprocess\n",
    "import webbrowser\n",
    "from CLV_Analysis.API import main\n"
   ]
  },
  {
   "cell_type": "markdown",
   "metadata": {
    "slideshow": {
     "slide_type": "subslide"
    }
   },
   "source": [
    "#### Function to Open Swagger"
   ]
  },
  {
   "cell_type": "code",
   "execution_count": null,
   "metadata": {
    "slideshow": {
     "slide_type": "subslide"
    }
   },
   "outputs": [],
   "source": [
    "def start_fastapi():\n",
    "    subprocess.run([\"uvicorn\", \"CLV_Analysis.API.main:app\",\n",
    "                    \"--reload\"])\n",
    "    webbrowser.open('http://127.0.0.1:8000/docs#/')\n",
    "\n",
    "\n",
    "name = \"__main__\"\n",
    "\n",
    "if name == \"__main__\":\n",
    "    start_fastapi()"
   ]
  }
 ],
 "metadata": {
  "celltoolbar": "Слайд-шоу",
  "kernelspec": {
   "display_name": "Python 3 (ipykernel)",
   "language": "python",
   "name": "python3"
  },
  "language_info": {
   "codemirror_mode": {
    "name": "ipython",
    "version": 3
   },
   "file_extension": ".py",
   "mimetype": "text/x-python",
   "name": "python",
   "nbconvert_exporter": "python",
   "pygments_lexer": "ipython3",
   "version": "3.11.5"
  }
 },
 "nbformat": 4,
 "nbformat_minor": 2
}
