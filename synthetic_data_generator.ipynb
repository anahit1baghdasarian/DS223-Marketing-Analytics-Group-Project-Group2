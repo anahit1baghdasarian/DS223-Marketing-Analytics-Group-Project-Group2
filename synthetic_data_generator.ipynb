{
 "cells": [
  {
   "cell_type": "markdown",
   "metadata": {},
   "source": [
    "## Loading modules and packages"
   ]
  },
  {
   "cell_type": "code",
   "execution_count": 2,
   "metadata": {},
   "outputs": [],
   "source": [
    "from CLV_Analysis.DB.data_generator import generate_product\n",
    "from CLV_Analysis.DB.data_generator import generate_customer\n",
    "from CLV_Analysis.DB.data_generator import generate_transaction\n",
    "from CLV_Analysis.DB.data_generator import generate_date\n",
    "from CLV_Analysis.DB.data_generator import generate_sales\n",
    "import pandas as pd\n",
    "import random\n",
    "import os"
   ]
  },
  {
   "cell_type": "markdown",
   "metadata": {},
   "source": [
    "## Declaring Constants"
   ]
  },
  {
   "cell_type": "code",
   "execution_count": 3,
   "metadata": {},
   "outputs": [],
   "source": [
    "NUMBER_OF_PRODUCTS=5000\n",
    "NUMBER_OF_CUSTOMERS=3000\n",
    "NUMBER_OF_TRANSACTIONS=4000"
   ]
  },
  {
   "cell_type": "code",
   "execution_count": 4,
   "metadata": {},
   "outputs": [],
   "source": [
    "# Check if 'data_csv' folder exists, if not, create it\n",
    "output_directory = 'data_csv'\n",
    "if not os.path.exists(output_directory):\n",
    "    os.makedirs(output_directory)"
   ]
  },
  {
   "cell_type": "markdown",
   "metadata": {},
   "source": [
    "## Generating Customer Data"
   ]
  },
  {
   "cell_type": "code",
   "execution_count": 5,
   "metadata": {},
   "outputs": [],
   "source": [
    "customer_data = [generate_customer(customer_id) for customer_id in range(NUMBER_OF_CUSTOMERS)]\n",
    "\n",
    "# Save customer data to CSV file in the 'data_csv' folder\n",
    "output_file_path = os.path.join(output_directory, 'customer.csv')\n",
    "pd.DataFrame(customer_data).to_csv(output_file_path, index=False)"
   ]
  },
  {
   "cell_type": "markdown",
   "metadata": {},
   "source": [
    "## Generating Product Data"
   ]
  },
  {
   "cell_type": "code",
   "execution_count": 6,
   "metadata": {},
   "outputs": [],
   "source": [
    "product_data = [generate_product(product_id) for product_id in range(NUMBER_OF_PRODUCTS)]\n",
    "# Save product data to CSV file in the 'data_csv' folder\n",
    "output_file_path = os.path.join(output_directory, 'product.csv')\n",
    "pd.DataFrame(product_data).to_csv(output_file_path, index=False)"
   ]
  },
  {
   "cell_type": "markdown",
   "metadata": {},
   "source": [
    "## Generating Transaction Data"
   ]
  },
  {
   "cell_type": "code",
   "execution_count": 7,
   "metadata": {},
   "outputs": [],
   "source": [
    "transaction_data = [generate_transaction(transaction_id) for transaction_id in range(NUMBER_OF_TRANSACTIONS)] \n",
    "# Save transaction data to CSV file in the 'data_csv' folder\n",
    "output_file_path = os.path.join(output_directory, 'transactions.csv')\n",
    "pd.DataFrame(transaction_data).to_csv(output_file_path, index=False)"
   ]
  },
  {
   "cell_type": "markdown",
   "metadata": {},
   "source": [
    "## Generating Dates Data"
   ]
  },
  {
   "cell_type": "code",
   "execution_count": 8,
   "metadata": {},
   "outputs": [
    {
     "data": {
      "text/plain": [
       "8765"
      ]
     },
     "execution_count": 8,
     "metadata": {},
     "output_type": "execute_result"
    }
   ],
   "source": [
    "from datetime import datetime\n",
    "\n",
    "# Define the start and end dates as strings\n",
    "start_date = \"2000-01-01\"\n",
    "end_date = \"2023-12-31\"\n",
    "\n",
    "# Convert the date strings to datetime objects\n",
    "start_date_obj = datetime.strptime(start_date, \"%Y-%m-%d\")\n",
    "end_date_obj = datetime.strptime(end_date, \"%Y-%m-%d\")\n",
    "\n",
    "# Calculate the difference between the two dates\n",
    "number_of_days = (end_date_obj - start_date_obj).days\n",
    "number_of_days"
   ]
  },
  {
   "cell_type": "code",
   "execution_count": 9,
   "metadata": {},
   "outputs": [],
   "source": [
    "dates_data = [generate_date(date_id) for date_id in range(number_of_days+1)] \n",
    "# Save date data to CSV file in the 'data_csv' folder\n",
    "output_file_path = os.path.join(output_directory, 'date.csv')\n",
    "pd.DataFrame(dates_data).to_csv(output_file_path, index=False)"
   ]
  },
  {
   "cell_type": "markdown",
   "metadata": {},
   "source": [
    "## Generating Sales Data"
   ]
  },
  {
   "cell_type": "code",
   "execution_count": 10,
   "metadata": {},
   "outputs": [],
   "source": [
    "DateData = pd.DataFrame(dates_data)\n",
    "TransData = pd.DataFrame(transaction_data)\n",
    "\n",
    "DateData[\"date\"] = pd.to_datetime(DateData[\"date\"])\n",
    "TransData[\"date\"] = pd.to_datetime(TransData[\"date\"])"
   ]
  },
  {
   "cell_type": "code",
   "execution_count": 11,
   "metadata": {},
   "outputs": [
    {
     "data": {
      "text/plain": [
       "12065"
      ]
     },
     "execution_count": 11,
     "metadata": {},
     "output_type": "execute_result"
    }
   ],
   "source": [
    "# Create an array with numbers from 1 to 4000\n",
    "original_array = list(range(0, 4000))\n",
    "\n",
    "# Create a new array with randomly duplicated elements\n",
    "duplicated_array = []\n",
    "for num in original_array:\n",
    "    # Generate a random number between 1 and 5 (inclusive)\n",
    "    duplicates = random.randint(1, 5)\n",
    "    # Append the number to the new array 'duplicates' times\n",
    "    duplicated_array.extend([num] * duplicates)\n",
    "\n",
    "len(duplicated_array)"
   ]
  },
  {
   "cell_type": "code",
   "execution_count": 14,
   "metadata": {},
   "outputs": [],
   "source": [
    "# Save sales data to CSV file in the 'data_csv' folder\n",
    "output_file_path = os.path.join(output_directory, 'sales.csv')\n",
    "\n",
    "sales_data = [generate_sales() for i in range(len(duplicated_array))] \n",
    "sales_data = pd.DataFrame(sales_data)\n",
    "sales_data[\"transaction_id\"] = duplicated_array\n",
    "sales_data = sales_data[['transaction_id', 'product_id', 'quantity']]\n",
    "sales_data = sales_data.merge(TransData, on='transaction_id', how='left')\n",
    "sales_data = sales_data.merge(DateData, on='date', how='left')\n",
    "sales_data = sales_data[['transaction_id','product_id', 'customer_id', 'quantity', 'date_id']]\n",
    "sales_data.to_csv(output_file_path, index=False)"
   ]
  }
 ],
 "metadata": {
  "kernelspec": {
   "display_name": "Python 3 (ipykernel)",
   "language": "python",
   "name": "python3"
  },
  "language_info": {
   "codemirror_mode": {
    "name": "ipython",
    "version": 3
   },
   "file_extension": ".py",
   "mimetype": "text/x-python",
   "name": "python",
   "nbconvert_exporter": "python",
   "pygments_lexer": "ipython3",
   "version": "3.9.7"
  }
 },
 "nbformat": 4,
 "nbformat_minor": 2
}
